{
 "cells": [
  {
   "cell_type": "code",
   "execution_count": 1,
   "id": "7b5f4456-68aa-48e5-96e8-9e42fcda2685",
   "metadata": {},
   "outputs": [],
   "source": [
    "import pandas as pd\n",
    "import numpy as np"
   ]
  },
  {
   "cell_type": "code",
   "execution_count": 2,
   "id": "021aa980-7203-4411-9047-f369986c241a",
   "metadata": {},
   "outputs": [
    {
     "data": {
      "text/html": [
       "<div>\n",
       "<style scoped>\n",
       "    .dataframe tbody tr th:only-of-type {\n",
       "        vertical-align: middle;\n",
       "    }\n",
       "\n",
       "    .dataframe tbody tr th {\n",
       "        vertical-align: top;\n",
       "    }\n",
       "\n",
       "    .dataframe thead th {\n",
       "        text-align: right;\n",
       "    }\n",
       "</style>\n",
       "<table border=\"1\" class=\"dataframe\">\n",
       "  <thead>\n",
       "    <tr style=\"text-align: right;\">\n",
       "      <th></th>\n",
       "      <th>ID_Atendimento</th>\n",
       "      <th>Data_Atendimento</th>\n",
       "      <th>Cliente_ID</th>\n",
       "      <th>Canal</th>\n",
       "      <th>Tempo_Resposta_Minutos</th>\n",
       "      <th>Resolvido</th>\n",
       "      <th>Satisfacao</th>\n",
       "    </tr>\n",
       "  </thead>\n",
       "  <tbody>\n",
       "    <tr>\n",
       "      <th>0</th>\n",
       "      <td>1</td>\n",
       "      <td>2024-01-01</td>\n",
       "      <td>C001</td>\n",
       "      <td>E-mail</td>\n",
       "      <td>15</td>\n",
       "      <td>Sim</td>\n",
       "      <td>5</td>\n",
       "    </tr>\n",
       "    <tr>\n",
       "      <th>1</th>\n",
       "      <td>2</td>\n",
       "      <td>2024-01-02</td>\n",
       "      <td>C002</td>\n",
       "      <td>Telefone</td>\n",
       "      <td>30</td>\n",
       "      <td>Não</td>\n",
       "      <td>4</td>\n",
       "    </tr>\n",
       "    <tr>\n",
       "      <th>2</th>\n",
       "      <td>3</td>\n",
       "      <td>2024-01-03</td>\n",
       "      <td>C003</td>\n",
       "      <td>Chat Online</td>\n",
       "      <td>10</td>\n",
       "      <td>Sim</td>\n",
       "      <td>3</td>\n",
       "    </tr>\n",
       "    <tr>\n",
       "      <th>3</th>\n",
       "      <td>4</td>\n",
       "      <td>2024-01-04</td>\n",
       "      <td>C004</td>\n",
       "      <td>WhatsApp</td>\n",
       "      <td>45</td>\n",
       "      <td>Não</td>\n",
       "      <td>2</td>\n",
       "    </tr>\n",
       "    <tr>\n",
       "      <th>4</th>\n",
       "      <td>5</td>\n",
       "      <td>2024-01-05</td>\n",
       "      <td>C005</td>\n",
       "      <td>E-mail</td>\n",
       "      <td>25</td>\n",
       "      <td>Sim</td>\n",
       "      <td>1</td>\n",
       "    </tr>\n",
       "  </tbody>\n",
       "</table>\n",
       "</div>"
      ],
      "text/plain": [
       "   ID_Atendimento Data_Atendimento Cliente_ID        Canal  \\\n",
       "0               1       2024-01-01       C001       E-mail   \n",
       "1               2       2024-01-02       C002     Telefone   \n",
       "2               3       2024-01-03       C003  Chat Online   \n",
       "3               4       2024-01-04       C004     WhatsApp   \n",
       "4               5       2024-01-05       C005       E-mail   \n",
       "\n",
       "   Tempo_Resposta_Minutos Resolvido  Satisfacao  \n",
       "0                      15       Sim           5  \n",
       "1                      30       Não           4  \n",
       "2                      10       Sim           3  \n",
       "3                      45       Não           2  \n",
       "4                      25       Sim           1  "
      ]
     },
     "execution_count": 2,
     "metadata": {},
     "output_type": "execute_result"
    }
   ],
   "source": [
    "# Criando dados fictícios de atendimento ao cliente\n",
    "data = {\n",
    "    \"ID_Atendimento\": range(1, 51),\n",
    "    \"Data_Atendimento\": pd.date_range(start=\"2024-01-01\", periods=50, freq=\"D\"),\n",
    "    \"Cliente_ID\": [f\"C{str(i).zfill(3)}\" for i in range(1, 51)],\n",
    "    \"Canal\": [\"E-mail\", \"Telefone\", \"Chat Online\", \"WhatsApp\"] * 12 + [\"E-mail\", \"Chat Online\"],\n",
    "    \"Tempo_Resposta_Minutos\": [15, 30, 10, 45, 25, 20, 50, 5, 35, 40] * 5,\n",
    "    \"Resolvido\": [\"Sim\", \"Não\"] * 25,\n",
    "    \"Satisfacao\": [5, 4, 3, 2, 1] * 10  # Escala de 1 a 5\n",
    "}\n",
    "\n",
    "# Criando o DataFrame\n",
    "df = pd.DataFrame(data)\n",
    "\n",
    "# Exibir as primeiras linhas do dataset\n",
    "df.head()"
   ]
  },
  {
   "cell_type": "code",
   "execution_count": 3,
   "id": "15d9a16b-e86b-472e-8240-6a6fac68f1e5",
   "metadata": {},
   "outputs": [],
   "source": [
    "# Salvando como CSV\n",
    "df.to_csv(\"analise_atendimento.csv\", index=False)"
   ]
  }
 ],
 "metadata": {
  "kernelspec": {
   "display_name": "Python 3 (ipykernel)",
   "language": "python",
   "name": "python3"
  },
  "language_info": {
   "codemirror_mode": {
    "name": "ipython",
    "version": 3
   },
   "file_extension": ".py",
   "mimetype": "text/x-python",
   "name": "python",
   "nbconvert_exporter": "python",
   "pygments_lexer": "ipython3",
   "version": "3.11.9"
  }
 },
 "nbformat": 4,
 "nbformat_minor": 5
}
