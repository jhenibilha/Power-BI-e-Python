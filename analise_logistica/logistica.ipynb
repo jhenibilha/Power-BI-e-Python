{
 "cells": [
  {
   "cell_type": "markdown",
   "id": "0406324e-1cc8-4d74-9041-af41ac6e8d2c",
   "metadata": {},
   "source": [
    "## Empresa de Logística e Transporte"
   ]
  },
  {
   "cell_type": "code",
   "execution_count": 1,
   "id": "1b57eaa8-b344-4fd8-a2b5-89d526588882",
   "metadata": {},
   "outputs": [],
   "source": [
    "import numpy as np\n",
    "import pandas as pd"
   ]
  },
  {
   "cell_type": "code",
   "execution_count": 2,
   "id": "87a3232f-e66b-4998-a2d3-e70588770e3a",
   "metadata": {},
   "outputs": [],
   "source": [
    "df = pd.read_csv('logistica.csv')"
   ]
  },
  {
   "cell_type": "code",
   "execution_count": 3,
   "id": "d5194f4a-d06c-434a-b8f9-ce5282a22a38",
   "metadata": {},
   "outputs": [
    {
     "data": {
      "text/html": [
       "<div>\n",
       "<style scoped>\n",
       "    .dataframe tbody tr th:only-of-type {\n",
       "        vertical-align: middle;\n",
       "    }\n",
       "\n",
       "    .dataframe tbody tr th {\n",
       "        vertical-align: top;\n",
       "    }\n",
       "\n",
       "    .dataframe thead th {\n",
       "        text-align: right;\n",
       "    }\n",
       "</style>\n",
       "<table border=\"1\" class=\"dataframe\">\n",
       "  <thead>\n",
       "    <tr style=\"text-align: right;\">\n",
       "      <th></th>\n",
       "      <th>ID do Pedido</th>\n",
       "      <th>Data de Envio</th>\n",
       "      <th>Data de Entrega</th>\n",
       "      <th>Custo de Envio</th>\n",
       "      <th>Peso do Produto (kg)</th>\n",
       "      <th>Distância Percorrida (km)</th>\n",
       "      <th>Status da Entrega</th>\n",
       "      <th>Modal de Transporte</th>\n",
       "      <th>Tempo de Entrega (dias)</th>\n",
       "      <th>Situação da Entrega</th>\n",
       "    </tr>\n",
       "  </thead>\n",
       "  <tbody>\n",
       "    <tr>\n",
       "      <th>0</th>\n",
       "      <td>1</td>\n",
       "      <td>2025-02-14</td>\n",
       "      <td>2025-02-14</td>\n",
       "      <td>10.129674</td>\n",
       "      <td>1.737406</td>\n",
       "      <td>549.352849</td>\n",
       "      <td>Entregue</td>\n",
       "      <td>Ferroviário</td>\n",
       "      <td>0</td>\n",
       "      <td>No prazo</td>\n",
       "    </tr>\n",
       "    <tr>\n",
       "      <th>1</th>\n",
       "      <td>2</td>\n",
       "      <td>2025-03-25</td>\n",
       "      <td>2025-03-31</td>\n",
       "      <td>90.181164</td>\n",
       "      <td>15.478690</td>\n",
       "      <td>257.572779</td>\n",
       "      <td>Em trânsito</td>\n",
       "      <td>Aéreo</td>\n",
       "      <td>6</td>\n",
       "      <td>Atrasada</td>\n",
       "    </tr>\n",
       "    <tr>\n",
       "      <th>2</th>\n",
       "      <td>3</td>\n",
       "      <td>2025-04-10</td>\n",
       "      <td>2025-04-17</td>\n",
       "      <td>93.234725</td>\n",
       "      <td>22.654439</td>\n",
       "      <td>230.299356</td>\n",
       "      <td>Em trânsito</td>\n",
       "      <td>Rodoviário</td>\n",
       "      <td>7</td>\n",
       "      <td>Atrasada</td>\n",
       "    </tr>\n",
       "    <tr>\n",
       "      <th>3</th>\n",
       "      <td>4</td>\n",
       "      <td>2025-03-04</td>\n",
       "      <td>2025-03-08</td>\n",
       "      <td>61.654845</td>\n",
       "      <td>2.066821</td>\n",
       "      <td>581.967205</td>\n",
       "      <td>Entregue</td>\n",
       "      <td>Aéreo</td>\n",
       "      <td>4</td>\n",
       "      <td>Atrasada</td>\n",
       "    </tr>\n",
       "    <tr>\n",
       "      <th>4</th>\n",
       "      <td>5</td>\n",
       "      <td>2025-04-05</td>\n",
       "      <td>2025-04-07</td>\n",
       "      <td>44.413150</td>\n",
       "      <td>48.096682</td>\n",
       "      <td>742.635949</td>\n",
       "      <td>Entregue</td>\n",
       "      <td>Rodoviário</td>\n",
       "      <td>2</td>\n",
       "      <td>Atrasada</td>\n",
       "    </tr>\n",
       "  </tbody>\n",
       "</table>\n",
       "</div>"
      ],
      "text/plain": [
       "   ID do Pedido Data de Envio Data de Entrega  Custo de Envio  \\\n",
       "0             1    2025-02-14      2025-02-14       10.129674   \n",
       "1             2    2025-03-25      2025-03-31       90.181164   \n",
       "2             3    2025-04-10      2025-04-17       93.234725   \n",
       "3             4    2025-03-04      2025-03-08       61.654845   \n",
       "4             5    2025-04-05      2025-04-07       44.413150   \n",
       "\n",
       "   Peso do Produto (kg)  Distância Percorrida (km) Status da Entrega  \\\n",
       "0              1.737406                 549.352849          Entregue   \n",
       "1             15.478690                 257.572779       Em trânsito   \n",
       "2             22.654439                 230.299356       Em trânsito   \n",
       "3              2.066821                 581.967205          Entregue   \n",
       "4             48.096682                 742.635949          Entregue   \n",
       "\n",
       "  Modal de Transporte  Tempo de Entrega (dias) Situação da Entrega  \n",
       "0         Ferroviário                        0            No prazo  \n",
       "1               Aéreo                        6            Atrasada  \n",
       "2          Rodoviário                        7            Atrasada  \n",
       "3               Aéreo                        4            Atrasada  \n",
       "4          Rodoviário                        2            Atrasada  "
      ]
     },
     "execution_count": 3,
     "metadata": {},
     "output_type": "execute_result"
    }
   ],
   "source": [
    "df.head()"
   ]
  },
  {
   "cell_type": "markdown",
   "id": "58b27cfb-1520-4c84-bcd3-af35a83c3b64",
   "metadata": {},
   "source": [
    "### 1. Qual é o custo médio de envio por modal de transporte?"
   ]
  },
  {
   "cell_type": "code",
   "execution_count": 4,
   "id": "0d375b6a-2b64-457a-983d-2eaaef0de1f1",
   "metadata": {},
   "outputs": [
    {
     "data": {
      "text/plain": [
       "Modal de Transporte\n",
       "Marítimo       64.989402\n",
       "Aéreo          61.252709\n",
       "Rodoviário     53.505516\n",
       "Ferroviário    50.160571\n",
       "Name: Custo de Envio, dtype: float64"
      ]
     },
     "execution_count": 4,
     "metadata": {},
     "output_type": "execute_result"
    }
   ],
   "source": [
    "custo_medio_modal = df.groupby('Modal de Transporte')['Custo de Envio'].mean().sort_values(ascending = False)\n",
    "custo_medio_modal"
   ]
  },
  {
   "cell_type": "markdown",
   "id": "278c066f-795a-4b36-92b0-7477097738d6",
   "metadata": {},
   "source": [
    "### 2. Qual é o custo total de envio por modal de transporte?"
   ]
  },
  {
   "cell_type": "code",
   "execution_count": 5,
   "id": "0e7d262b-af00-470e-9ec0-6c8d3c3c0dfa",
   "metadata": {},
   "outputs": [
    {
     "data": {
      "text/plain": [
       "Modal de Transporte\n",
       "Marítimo       1689.724463\n",
       "Rodoviário     1391.143407\n",
       "Aéreo          1347.559587\n",
       "Ferroviário    1304.174840\n",
       "Name: Custo de Envio, dtype: float64"
      ]
     },
     "execution_count": 5,
     "metadata": {},
     "output_type": "execute_result"
    }
   ],
   "source": [
    "custo_total_modal = df.groupby('Modal de Transporte')['Custo de Envio'].sum().sort_values(ascending = False)\n",
    "custo_total_modal"
   ]
  },
  {
   "cell_type": "markdown",
   "id": "b8296107-8964-4cb8-b265-3d5a5475b1d9",
   "metadata": {},
   "source": [
    "### 3. Qual é o tempo médio de entrega por modal de transporte?"
   ]
  },
  {
   "cell_type": "code",
   "execution_count": 6,
   "id": "8dfa06f8-998b-4f60-aa8e-11a8de62be02",
   "metadata": {},
   "outputs": [
    {
     "data": {
      "text/plain": [
       "Modal de Transporte\n",
       "Ferroviário    4.961538\n",
       "Aéreo          4.318182\n",
       "Marítimo       4.230769\n",
       "Rodoviário     3.730769\n",
       "Name: Tempo de Entrega (dias), dtype: float64"
      ]
     },
     "execution_count": 6,
     "metadata": {},
     "output_type": "execute_result"
    }
   ],
   "source": [
    "# Convertendo as datas para datetime se não estiverem no formato correto\n",
    "df['Data de Envio'] = pd.to_datetime(df['Data de Envio'])\n",
    "df['Data de Entrega'] = pd.to_datetime(df['Data de Entrega'])\n",
    "\n",
    "# Calculando o tempo de entrega em dias\n",
    "df['Tempo de Entrega (dias)'] = (df['Data de Entrega'] - df['Data de Envio']).dt.days\n",
    "\n",
    "# Calculando o tempo médio de entrega por modal de transporte\n",
    "tempo_medio_entrega = df.groupby('Modal de Transporte')['Tempo de Entrega (dias)'].mean().sort_values(ascending = False)\n",
    "tempo_medio_entrega"
   ]
  },
  {
   "cell_type": "markdown",
   "id": "51d6822c-637a-41f6-8629-c35b960b94ff",
   "metadata": {},
   "source": [
    "### 4. Qual é o tempo médio de entrega por distância?"
   ]
  },
  {
   "cell_type": "code",
   "execution_count": 7,
   "id": "5a197f97-1d8e-4f27-958c-5aa850f8e06d",
   "metadata": {},
   "outputs": [
    {
     "data": {
      "text/plain": [
       "Distância Percorrida (km)\n",
       "13.297403     10.0\n",
       "278.845411    10.0\n",
       "482.304874    10.0\n",
       "356.571012    10.0\n",
       "706.206778    10.0\n",
       "              ... \n",
       "764.619362     0.0\n",
       "842.351068     0.0\n",
       "908.103474     0.0\n",
       "971.517401     0.0\n",
       "959.552633     0.0\n",
       "Name: Tempo de Entrega (dias), Length: 100, dtype: float64"
      ]
     },
     "execution_count": 7,
     "metadata": {},
     "output_type": "execute_result"
    }
   ],
   "source": [
    "# Calculando o tempo médio de entrega por modal de transporte\n",
    "tempo_medio_entrega = df.groupby('Distância Percorrida (km)')['Tempo de Entrega (dias)'].mean().sort_values(ascending = False)\n",
    "tempo_medio_entrega"
   ]
  },
  {
   "cell_type": "markdown",
   "id": "e5dce00d-8f7a-4609-a681-accbfe67d440",
   "metadata": {},
   "source": [
    "### 5. Qual é a porcentagem de entregas realizadas \"No prazo\" por modal de transporte?"
   ]
  },
  {
   "cell_type": "code",
   "execution_count": 8,
   "id": "01aae0a4-5926-4336-876d-f4cb968e6aad",
   "metadata": {},
   "outputs": [
    {
     "data": {
      "text/plain": [
       "Modal de Transporte\n",
       "Aéreo          27.272727\n",
       "Ferroviário    19.230769\n",
       "Marítimo       30.769231\n",
       "Rodoviário     19.230769\n",
       "dtype: float64"
      ]
     },
     "execution_count": 8,
     "metadata": {},
     "output_type": "execute_result"
    }
   ],
   "source": [
    "# Criando a coluna 'Situação da Entrega' (caso ainda não tenha feito isso)\n",
    "df['Situação da Entrega'] = np.where(df['Data de Entrega'] <= df['Data de Envio'], 'No prazo', 'Atrasada')\n",
    "\n",
    "# Calcule o número total de entregas e o número de entregas \"No prazo\" por modal\n",
    "entregas_no_prazo = df[df['Situação da Entrega'] == 'No prazo'].groupby('Modal de Transporte').size()\n",
    "total_por_modal = df.groupby('Modal de Transporte').size()\n",
    "\n",
    "# Calcule a porcentagem de entregas \"No prazo\"\n",
    "porcentagem_no_prazo = (entregas_no_prazo / total_por_modal) * 100\n",
    "\n",
    "# Exibindo o resultado\n",
    "porcentagem_no_prazo"
   ]
  },
  {
   "cell_type": "code",
   "execution_count": 9,
   "id": "1b2e5a7b-e2f3-4543-bc51-2f52cd282166",
   "metadata": {},
   "outputs": [
    {
     "data": {
      "text/html": [
       "<div>\n",
       "<style scoped>\n",
       "    .dataframe tbody tr th:only-of-type {\n",
       "        vertical-align: middle;\n",
       "    }\n",
       "\n",
       "    .dataframe tbody tr th {\n",
       "        vertical-align: top;\n",
       "    }\n",
       "\n",
       "    .dataframe thead th {\n",
       "        text-align: right;\n",
       "    }\n",
       "</style>\n",
       "<table border=\"1\" class=\"dataframe\">\n",
       "  <thead>\n",
       "    <tr style=\"text-align: right;\">\n",
       "      <th></th>\n",
       "      <th>ID do Pedido</th>\n",
       "      <th>Data de Envio</th>\n",
       "      <th>Data de Entrega</th>\n",
       "      <th>Custo de Envio</th>\n",
       "      <th>Peso do Produto (kg)</th>\n",
       "      <th>Distância Percorrida (km)</th>\n",
       "      <th>Status da Entrega</th>\n",
       "      <th>Modal de Transporte</th>\n",
       "      <th>Tempo de Entrega (dias)</th>\n",
       "      <th>Situação da Entrega</th>\n",
       "    </tr>\n",
       "  </thead>\n",
       "  <tbody>\n",
       "    <tr>\n",
       "      <th>0</th>\n",
       "      <td>1</td>\n",
       "      <td>2025-02-14</td>\n",
       "      <td>2025-02-14</td>\n",
       "      <td>10.129674</td>\n",
       "      <td>1.737406</td>\n",
       "      <td>549.352849</td>\n",
       "      <td>Entregue</td>\n",
       "      <td>Ferroviário</td>\n",
       "      <td>0</td>\n",
       "      <td>No prazo</td>\n",
       "    </tr>\n",
       "    <tr>\n",
       "      <th>1</th>\n",
       "      <td>2</td>\n",
       "      <td>2025-03-25</td>\n",
       "      <td>2025-03-31</td>\n",
       "      <td>90.181164</td>\n",
       "      <td>15.478690</td>\n",
       "      <td>257.572779</td>\n",
       "      <td>Em trânsito</td>\n",
       "      <td>Aéreo</td>\n",
       "      <td>6</td>\n",
       "      <td>Atrasada</td>\n",
       "    </tr>\n",
       "    <tr>\n",
       "      <th>2</th>\n",
       "      <td>3</td>\n",
       "      <td>2025-04-10</td>\n",
       "      <td>2025-04-17</td>\n",
       "      <td>93.234725</td>\n",
       "      <td>22.654439</td>\n",
       "      <td>230.299356</td>\n",
       "      <td>Em trânsito</td>\n",
       "      <td>Rodoviário</td>\n",
       "      <td>7</td>\n",
       "      <td>Atrasada</td>\n",
       "    </tr>\n",
       "    <tr>\n",
       "      <th>3</th>\n",
       "      <td>4</td>\n",
       "      <td>2025-03-04</td>\n",
       "      <td>2025-03-08</td>\n",
       "      <td>61.654845</td>\n",
       "      <td>2.066821</td>\n",
       "      <td>581.967205</td>\n",
       "      <td>Entregue</td>\n",
       "      <td>Aéreo</td>\n",
       "      <td>4</td>\n",
       "      <td>Atrasada</td>\n",
       "    </tr>\n",
       "    <tr>\n",
       "      <th>4</th>\n",
       "      <td>5</td>\n",
       "      <td>2025-04-05</td>\n",
       "      <td>2025-04-07</td>\n",
       "      <td>44.413150</td>\n",
       "      <td>48.096682</td>\n",
       "      <td>742.635949</td>\n",
       "      <td>Entregue</td>\n",
       "      <td>Rodoviário</td>\n",
       "      <td>2</td>\n",
       "      <td>Atrasada</td>\n",
       "    </tr>\n",
       "  </tbody>\n",
       "</table>\n",
       "</div>"
      ],
      "text/plain": [
       "   ID do Pedido Data de Envio Data de Entrega  Custo de Envio  \\\n",
       "0             1    2025-02-14      2025-02-14       10.129674   \n",
       "1             2    2025-03-25      2025-03-31       90.181164   \n",
       "2             3    2025-04-10      2025-04-17       93.234725   \n",
       "3             4    2025-03-04      2025-03-08       61.654845   \n",
       "4             5    2025-04-05      2025-04-07       44.413150   \n",
       "\n",
       "   Peso do Produto (kg)  Distância Percorrida (km) Status da Entrega  \\\n",
       "0              1.737406                 549.352849          Entregue   \n",
       "1             15.478690                 257.572779       Em trânsito   \n",
       "2             22.654439                 230.299356       Em trânsito   \n",
       "3              2.066821                 581.967205          Entregue   \n",
       "4             48.096682                 742.635949          Entregue   \n",
       "\n",
       "  Modal de Transporte  Tempo de Entrega (dias) Situação da Entrega  \n",
       "0         Ferroviário                        0            No prazo  \n",
       "1               Aéreo                        6            Atrasada  \n",
       "2          Rodoviário                        7            Atrasada  \n",
       "3               Aéreo                        4            Atrasada  \n",
       "4          Rodoviário                        2            Atrasada  "
      ]
     },
     "execution_count": 9,
     "metadata": {},
     "output_type": "execute_result"
    }
   ],
   "source": [
    "df.head()"
   ]
  },
  {
   "cell_type": "markdown",
   "id": "7195835f-fd4e-4a2b-8e86-9d766203a6d6",
   "metadata": {},
   "source": [
    "### 6. Qual é a porcentagem de entregas \"Atrasadas\" por status ou por tipo de produto?"
   ]
  },
  {
   "cell_type": "code",
   "execution_count": 10,
   "id": "9fe43aa1-b904-4a10-af34-b849ba8322dd",
   "metadata": {},
   "outputs": [
    {
     "data": {
      "text/plain": [
       "Modal de Transporte\n",
       "Aéreo          72.727273\n",
       "Ferroviário    80.769231\n",
       "Marítimo       69.230769\n",
       "Rodoviário     80.769231\n",
       "dtype: float64"
      ]
     },
     "execution_count": 10,
     "metadata": {},
     "output_type": "execute_result"
    }
   ],
   "source": [
    "# Criando a coluna 'Situação da Entrega' (caso ainda não tenha feito isso)\n",
    "df['Situação da Entrega'] = np.where(df['Data de Entrega'] <= df['Data de Envio'], 'No prazo', 'Atrasada')\n",
    "\n",
    "# Calcule o número total de entregas e o número de entregas \"Atrasadas\" por modal\n",
    "entregas_atrasadas = df[df['Situação da Entrega'] == 'Atrasada'].groupby('Modal de Transporte').size()\n",
    "total_por_modal = df.groupby('Modal de Transporte').size()\n",
    "\n",
    "# Calcule a porcentagem de entregas \"No prazo\"\n",
    "porcentagem_no_prazo = (entregas_atrasadas / total_por_modal) * 100\n",
    "\n",
    "# Exibindo o resultado\n",
    "porcentagem_no_prazo"
   ]
  },
  {
   "cell_type": "markdown",
   "id": "f16f5a96-dcfe-45c5-ab6d-a3b3d6d6c3e6",
   "metadata": {},
   "source": [
    "### 7. Quais modais têm as maiores distâncias percorridas e como isso afeta os custos de envio?"
   ]
  },
  {
   "cell_type": "code",
   "execution_count": 11,
   "id": "ca5023bc-9b36-4026-a283-91e6525e1129",
   "metadata": {},
   "outputs": [
    {
     "name": "stdout",
     "output_type": "stream",
     "text": [
      "  Modal de Transporte  Distância Percorrida (km)  Custo de Envio\n",
      "2            Marítimo                 532.802152       64.989402\n",
      "1         Ferroviário                 517.380480       50.160571\n",
      "3          Rodoviário                 463.786981       53.505516\n",
      "0               Aéreo                 424.798893       61.252709\n"
     ]
    }
   ],
   "source": [
    "analise_modal = df.groupby('Modal de Transporte').agg({\n",
    "    'Distância Percorrida (km)': 'mean',  \n",
    "    'Custo de Envio': 'mean'  \n",
    "}).reset_index()\n",
    "\n",
    "# Ordenando pela maior média de distância percorrida\n",
    "analise_modal = analise_modal.sort_values(by='Distância Percorrida (km)', ascending=False)\n",
    "\n",
    "# Exibindo o resultado\n",
    "print(analise_modal)"
   ]
  },
  {
   "cell_type": "markdown",
   "id": "0424a609-c2af-43b3-a3be-4f054ed4fcde",
   "metadata": {},
   "source": [
    "### 8. Qual é o modal de transporte mais rápido?"
   ]
  },
  {
   "cell_type": "code",
   "execution_count": 12,
   "id": "406c94f6-0bbe-4eb3-813b-c8816b1d7768",
   "metadata": {},
   "outputs": [
    {
     "name": "stdout",
     "output_type": "stream",
     "text": [
      "O modal de transporte mais rápido é: Aéreo\n"
     ]
    }
   ],
   "source": [
    "analise_modal_rapidez = df.groupby('Modal de Transporte')['Tempo de Entrega (dias)'].sum()\n",
    "\n",
    "# Ordenar os resultados para encontrar o modal com o menor tempo de entrega\n",
    "modal_mais_rapido = analise_modal_rapidez.idxmin()\n",
    "\n",
    "# Exibir o resultado\n",
    "print(f\"O modal de transporte mais rápido é: {modal_mais_rapido}\")"
   ]
  },
  {
   "cell_type": "markdown",
   "id": "d1a1ab73-9276-414d-bcba-4f8695530b29",
   "metadata": {},
   "source": [
    "### 9. Qual é o peso médio dos produtos por modal de transporte?"
   ]
  },
  {
   "cell_type": "code",
   "execution_count": 13,
   "id": "add62e22-a4b6-4bf2-a8bc-1d4d224c0162",
   "metadata": {},
   "outputs": [
    {
     "data": {
      "text/plain": [
       "Modal de Transporte\n",
       "Aéreo          25.700584\n",
       "Ferroviário    29.811368\n",
       "Marítimo       30.290680\n",
       "Rodoviário     24.103477\n",
       "Name: Peso do Produto (kg), dtype: float64"
      ]
     },
     "execution_count": 13,
     "metadata": {},
     "output_type": "execute_result"
    }
   ],
   "source": [
    "peso_medio = df.groupby('Modal de Transporte')['Peso do Produto (kg)'].mean()\n",
    "peso_medio"
   ]
  },
  {
   "cell_type": "markdown",
   "id": "adf37b01-defa-47c7-b3e6-23156de5594d",
   "metadata": {},
   "source": [
    "### 10. Qual é a relação entre o peso dos produtos e o custo de envio?"
   ]
  },
  {
   "cell_type": "code",
   "execution_count": 14,
   "id": "32aaa6a3-30d9-4fa5-b9e1-7bd01cbe7b5b",
   "metadata": {},
   "outputs": [
    {
     "name": "stdout",
     "output_type": "stream",
     "text": [
      "A correlação entre o peso do produto e o custo de envio é: -0.04531409772645724\n"
     ]
    }
   ],
   "source": [
    "# Calcular a correlação entre o 'Peso do Produto (kg)' e o 'Custo de Envio'\n",
    "correlacao = df['Peso do Produto (kg)'].corr(df['Custo de Envio'])\n",
    "\n",
    "# Exibir o valor da correlação\n",
    "print(f\"A correlação entre o peso do produto e o custo de envio é: {correlacao}\")"
   ]
  },
  {
   "cell_type": "markdown",
   "id": "e946cb01-1131-4180-a5ea-eba399494792",
   "metadata": {},
   "source": [
    "### 11. Como a distância percorrida impacta o custo de envio?"
   ]
  },
  {
   "cell_type": "code",
   "execution_count": 15,
   "id": "5c1f3023-7f57-4314-a547-a42b3f1e74da",
   "metadata": {},
   "outputs": [
    {
     "name": "stdout",
     "output_type": "stream",
     "text": [
      "A correlação entre a distância percorrida e o custo de envio é: -0.07025553132077673\n"
     ]
    }
   ],
   "source": [
    "# Calcular a correlação entre a 'Distância Percorrida (km)' e o 'Custo de Envio'\n",
    "correlacao_distancia_custo = df['Distância Percorrida (km)'].corr(df['Custo de Envio'])\n",
    "\n",
    "# Exibir a correlação\n",
    "print(f\"A correlação entre a distância percorrida e o custo de envio é: {correlacao_distancia_custo}\")"
   ]
  },
  {
   "cell_type": "markdown",
   "id": "22c05113-f0b2-47d3-8f0f-9344ca218e37",
   "metadata": {},
   "source": [
    "#### Uma correlação de -0.0703 é muito próxima de 0 e, como é negativa, indica uma relação muito fraca e negativa entre a distância percorrida e o custo de envio. Ou seja, o custo de envio pode ser afetado por muitos outros fatores, como o modal de transporte, tipo de produto, serviços adicionais (como seguro), taxas fixas de transporte, entre outros. Esses fatores podem ter mais impacto no custo de envio do que a distância percorrida."
   ]
  },
  {
   "cell_type": "code",
   "execution_count": 16,
   "id": "80e24d36-7e47-4d3b-a15a-ec657e48c3e1",
   "metadata": {},
   "outputs": [
    {
     "data": {
      "image/png": "[encoded data removed]",
      "text/plain": [
       "<Figure size 800x600 with 1 Axes>"
      ]
     },
     "metadata": {},
     "output_type": "display_data"
    }
   ],
   "source": [
    "import matplotlib.pyplot as plt\n",
    "\n",
    "# Criando o gráfico de dispersão (scatter plot)\n",
    "plt.figure(figsize=(8,6))\n",
    "plt.scatter(df['Distância Percorrida (km)'], df['Custo de Envio'], color='green')\n",
    "\n",
    "# Adicionando título e rótulos\n",
    "plt.title('Relação entre Distância Percorrida e Custo de Envio')\n",
    "plt.xlabel('Distância Percorrida (km)')\n",
    "plt.ylabel('Custo de Envio')\n",
    "\n",
    "# Exibindo o gráfico\n",
    "plt.grid(True)\n",
    "plt.show()"
   ]
  },
  {
   "cell_type": "markdown",
   "id": "1e542dd1-6a12-4af7-91f2-0a0e9866389b",
   "metadata": {},
   "source": [
    "### 12. Como a distância percorrida afeta a pontualidade das entregas?"
   ]
  },
  {
   "cell_type": "code",
   "execution_count": 17,
   "id": "e8ad82af-d0d2-4bde-bb8f-2c24275c8190",
   "metadata": {},
   "outputs": [
    {
     "name": "stdout",
     "output_type": "stream",
     "text": [
      "A correlação entre a distância percorrida e o tempo de entrega é: 0.01452964584466246\n"
     ]
    }
   ],
   "source": [
    "# Calcular a correlação entre a 'Distância Percorrida (km)' e o 'Tempo de Entrega (dias)'\n",
    "correlacao_distancia_tempo = df['Distância Percorrida (km)'].corr(df['Tempo de Entrega (dias)'])\n",
    "\n",
    "# Exibir a correlação\n",
    "print(f\"A correlação entre a distância percorrida e o tempo de entrega é: {correlacao_distancia_tempo}\")"
   ]
  },
  {
   "cell_type": "markdown",
   "id": "3e73eff6-e641-4478-848c-55b5af408390",
   "metadata": {},
   "source": [
    "#### A correlação de 0.0145 está muito próxima de 0, o que sugere que não há uma relação linear significativa entre a distância percorrida e o tempo de entrega no seu conjunto de dados. Ou seja, o tempo de entrega pode ser afetado por modal de transporte, condições das estradas, tipo de produto, volume de produtos, etc."
   ]
  },
  {
   "cell_type": "code",
   "execution_count": 18,
   "id": "3bbf1748-be74-46cf-80e3-1ca2f012a4fe",
   "metadata": {},
   "outputs": [
    {
     "name": "stdout",
     "output_type": "stream",
     "text": [
      "Situação da Entrega\n",
      "Atrasada    489.824311\n",
      "No prazo    478.422414\n",
      "Name: Distância Percorrida (km), dtype: float64\n"
     ]
    }
   ],
   "source": [
    "# Agrupar os dados pela 'Situação da Entrega' e calcular a média da 'Distância Percorrida (km)'\n",
    "pontualidade_distancia = df.groupby('Situação da Entrega')['Distância Percorrida (km)'].mean()\n",
    "\n",
    "# Exibir o resultado\n",
    "print(pontualidade_distancia)"
   ]
  },
  {
   "cell_type": "markdown",
   "id": "78d76e3f-53fd-4120-83d2-6ee2ba2d42d2",
   "metadata": {},
   "source": [
    "### 13. Qual foi o desempenho das entregas ao longo do tempo?"
   ]
  },
  {
   "cell_type": "code",
   "execution_count": 19,
   "id": "c32e00f8-9c24-40a7-beeb-3457f46aa1ab",
   "metadata": {},
   "outputs": [
    {
     "data": {
      "text/html": [
       "<div>\n",
       "<style scoped>\n",
       "    .dataframe tbody tr th:only-of-type {\n",
       "        vertical-align: middle;\n",
       "    }\n",
       "\n",
       "    .dataframe tbody tr th {\n",
       "        vertical-align: top;\n",
       "    }\n",
       "\n",
       "    .dataframe thead th {\n",
       "        text-align: right;\n",
       "    }\n",
       "</style>\n",
       "<table border=\"1\" class=\"dataframe\">\n",
       "  <thead>\n",
       "    <tr style=\"text-align: right;\">\n",
       "      <th></th>\n",
       "      <th>Data de Envio</th>\n",
       "      <th>Tempo de Entrega (dias)</th>\n",
       "      <th>Custo de Envio</th>\n",
       "    </tr>\n",
       "  </thead>\n",
       "  <tbody>\n",
       "    <tr>\n",
       "      <th>0</th>\n",
       "      <td>2025-01</td>\n",
       "      <td>4.580645</td>\n",
       "      <td>55.570896</td>\n",
       "    </tr>\n",
       "    <tr>\n",
       "      <th>1</th>\n",
       "      <td>2025-02</td>\n",
       "      <td>4.400000</td>\n",
       "      <td>56.133533</td>\n",
       "    </tr>\n",
       "    <tr>\n",
       "      <th>2</th>\n",
       "      <td>2025-03</td>\n",
       "      <td>4.000000</td>\n",
       "      <td>54.478680</td>\n",
       "    </tr>\n",
       "    <tr>\n",
       "      <th>3</th>\n",
       "      <td>2025-04</td>\n",
       "      <td>4.294118</td>\n",
       "      <td>67.289184</td>\n",
       "    </tr>\n",
       "  </tbody>\n",
       "</table>\n",
       "</div>"
      ],
      "text/plain": [
       "  Data de Envio  Tempo de Entrega (dias)  Custo de Envio\n",
       "0       2025-01                 4.580645       55.570896\n",
       "1       2025-02                 4.400000       56.133533\n",
       "2       2025-03                 4.000000       54.478680\n",
       "3       2025-04                 4.294118       67.289184"
      ]
     },
     "execution_count": 19,
     "metadata": {},
     "output_type": "execute_result"
    }
   ],
   "source": [
    "# Converter 'Data de Envio' para datetime, caso ainda não tenha sido feito\n",
    "df['Data de Envio'] = pd.to_datetime(df['Data de Envio'])\n",
    "\n",
    "# Agrupar por mês e calcular a média de tempo de entrega\n",
    "desempenho_mensal = df.groupby(df['Data de Envio'].dt.to_period('M')).agg({\n",
    "    'Tempo de Entrega (dias)': 'mean',\n",
    "    'Custo de Envio': 'mean'\n",
    "}).reset_index()\n",
    "\n",
    "# Exibir o desempenho mensal\n",
    "desempenho_mensal"
   ]
  },
  {
   "cell_type": "markdown",
   "id": "f38d6128-a50a-4d75-8279-f25b5513bbdd",
   "metadata": {},
   "source": [
    "### 14. Como o custo de envio evolui ao longo do tempo?"
   ]
  },
  {
   "cell_type": "code",
   "execution_count": 20,
   "id": "4194ea82-8f79-4fa4-939f-3aeba0e55cc9",
   "metadata": {},
   "outputs": [
    {
     "data": {
      "text/html": [
       "<div>\n",
       "<style scoped>\n",
       "    .dataframe tbody tr th:only-of-type {\n",
       "        vertical-align: middle;\n",
       "    }\n",
       "\n",
       "    .dataframe tbody tr th {\n",
       "        vertical-align: top;\n",
       "    }\n",
       "\n",
       "    .dataframe thead th {\n",
       "        text-align: right;\n",
       "    }\n",
       "</style>\n",
       "<table border=\"1\" class=\"dataframe\">\n",
       "  <thead>\n",
       "    <tr style=\"text-align: right;\">\n",
       "      <th></th>\n",
       "      <th>Data de Envio</th>\n",
       "      <th>Custo de Envio</th>\n",
       "    </tr>\n",
       "  </thead>\n",
       "  <tbody>\n",
       "    <tr>\n",
       "      <th>0</th>\n",
       "      <td>2025-01</td>\n",
       "      <td>55.570896</td>\n",
       "    </tr>\n",
       "    <tr>\n",
       "      <th>1</th>\n",
       "      <td>2025-02</td>\n",
       "      <td>56.133533</td>\n",
       "    </tr>\n",
       "    <tr>\n",
       "      <th>2</th>\n",
       "      <td>2025-03</td>\n",
       "      <td>54.478680</td>\n",
       "    </tr>\n",
       "    <tr>\n",
       "      <th>3</th>\n",
       "      <td>2025-04</td>\n",
       "      <td>67.289184</td>\n",
       "    </tr>\n",
       "  </tbody>\n",
       "</table>\n",
       "</div>"
      ],
      "text/plain": [
       "  Data de Envio  Custo de Envio\n",
       "0       2025-01       55.570896\n",
       "1       2025-02       56.133533\n",
       "2       2025-03       54.478680\n",
       "3       2025-04       67.289184"
      ]
     },
     "execution_count": 20,
     "metadata": {},
     "output_type": "execute_result"
    }
   ],
   "source": [
    "# Converter a coluna 'Data de Envio' para o formato datetime, caso não tenha sido feito\n",
    "df['Data de Envio'] = pd.to_datetime(df['Data de Envio'])\n",
    "\n",
    "# Agrupar por mês e calcular a média do custo de envio\n",
    "custo_envio_mensal = df.groupby(df['Data de Envio'].dt.to_period('M')).agg({\n",
    "    'Custo de Envio': 'mean'\n",
    "}).reset_index()\n",
    "\n",
    "# Exibir o custo de envio mensal\n",
    "custo_envio_mensal"
   ]
  },
  {
   "cell_type": "code",
   "execution_count": 21,
   "id": "9ded96a2-c607-4a68-af5a-e4e302bb883a",
   "metadata": {},
   "outputs": [
    {
     "data": {
      "image/png": "[encoded data removed]",
      "text/plain": [
       "<Figure size 700x500 with 1 Axes>"
      ]
     },
     "metadata": {},
     "output_type": "display_data"
    }
   ],
   "source": [
    "# Criar um gráfico para visualizar a evolução do custo de envio ao longo do tempo\n",
    "plt.figure(figsize=(7,5))\n",
    "plt.plot(custo_envio_mensal['Data de Envio'].astype(str), custo_envio_mensal['Custo de Envio'], marker='o', color='blue')\n",
    "\n",
    "# Adicionar título e rótulos\n",
    "plt.title('Evolução do Custo de Envio ao Longo do Tempo')\n",
    "plt.xlabel('Mês')\n",
    "plt.ylabel('Custo de Envio Médio')\n",
    "plt.xticks(rotation=45)\n",
    "plt.grid(True)\n",
    "plt.show()"
   ]
  },
  {
   "cell_type": "markdown",
   "id": "75a539b2-b83c-4b07-ad59-e7824bffc32b",
   "metadata": {},
   "source": [
    "### 15. Qual é o número total de entregas realizadas \"No prazo\" e \"Atrasadas\"?"
   ]
  },
  {
   "cell_type": "code",
   "execution_count": 22,
   "id": "087e8c3a-43fb-4223-8bc9-2799bd620fd2",
   "metadata": {},
   "outputs": [
    {
     "name": "stdout",
     "output_type": "stream",
     "text": [
      "Situação da Entrega\n",
      "Atrasada    76\n",
      "No prazo    24\n",
      "Name: count, dtype: int64\n"
     ]
    }
   ],
   "source": [
    "# Contar o número de entregas \"No prazo\" e \"Atrasadas\"\n",
    "entregas_por_situacao = df['Situação da Entrega'].value_counts()\n",
    "\n",
    "# Exibir o número de entregas em cada situação\n",
    "print(entregas_por_situacao)"
   ]
  },
  {
   "cell_type": "markdown",
   "id": "743760e3-0f67-4da5-923a-658ab2921063",
   "metadata": {},
   "source": [
    "### 16. Qual é o tempo médio de atraso das entregas?"
   ]
  },
  {
   "cell_type": "code",
   "execution_count": 23,
   "id": "0ce48dad-d553-4b80-a71c-a9515a4ed20c",
   "metadata": {},
   "outputs": [
    {
     "name": "stdout",
     "output_type": "stream",
     "text": [
      "O tempo médio de atraso das entregas é: 4.67 dias\n"
     ]
    }
   ],
   "source": [
    "# Filtrar as entregas atrasadas (onde a Situação da Entrega é \"Atrasada\")\n",
    "atrasadas = df[df['Situação da Entrega'] == 'Atrasada'].copy()  # Criar uma cópia explícita\n",
    "\n",
    "# Calcular o tempo de atraso (tempo de entrega real - prazo esperado)\n",
    "atrasadas['Atraso (dias)'] = atrasadas['Tempo de Entrega (dias)'] - atrasadas['Tempo de Entrega (dias)'].min()\n",
    "\n",
    "# Calcular o tempo médio de atraso\n",
    "tempo_medio_atraso = atrasadas['Atraso (dias)'].mean()\n",
    "\n",
    "# Exibir o tempo médio de atraso\n",
    "print(f'O tempo médio de atraso das entregas é: {tempo_medio_atraso:.2f} dias')"
   ]
  },
  {
   "cell_type": "code",
   "execution_count": 24,
   "id": "a1fdd0d7-e66c-4963-b29f-4a2fb8256bd8",
   "metadata": {},
   "outputs": [],
   "source": [
    "# Salvar o dataset\n",
    "df.to_csv('logistica.csv', index = False)"
   ]
  }
 ],
 "metadata": {
  "kernelspec": {
   "display_name": "Python 3 (ipykernel)",
   "language": "python",
   "name": "python3"
  },
  "language_info": {
   "codemirror_mode": {
    "name": "ipython",
    "version": 3
   },
   "file_extension": ".py",
   "mimetype": "text/x-python",
   "name": "python",
   "nbconvert_exporter": "python",
   "pygments_lexer": "ipython3",
   "version": "3.11.9"
  }
 },
 "nbformat": 4,
 "nbformat_minor": 5
}
