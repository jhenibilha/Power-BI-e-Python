{
 "cells": [
  {
   "cell_type": "code",
   "execution_count": 1,
   "id": "e761465f-7ce4-4ff7-bca9-403fab855f37",
   "metadata": {},
   "outputs": [],
   "source": [
    "#Imports\n",
    "import pandas as pd\n",
    "import numpy as np"
   ]
  },
  {
   "cell_type": "markdown",
   "id": "91c8112a-ea99-4743-8c60-5b6735e1c8d2",
   "metadata": {},
   "source": [
    "## Carregando os Dados ##"
   ]
  },
  {
   "cell_type": "code",
   "execution_count": 3,
   "id": "f11fb380-863f-42e3-8458-1824b2450dab",
   "metadata": {},
   "outputs": [],
   "source": [
    "# Carrega o dataset\n",
    "df_planilha2 = pd.read_excel(\"empresa_de_varejo.xlsx\", sheet_name='Compras')"
   ]
  },
  {
   "cell_type": "code",
   "execution_count": 4,
   "id": "307c0184-d749-43e9-8763-07955b4fbda2",
   "metadata": {},
   "outputs": [],
   "source": [
    "# Salvar uma cópia do DataFrame original antes de alterações\n",
    "df_planilha2.to_excel('empresa_de_varejo_copia_compras.xlsx', sheet_name='Compras', index=False)"
   ]
  },
  {
   "cell_type": "code",
   "execution_count": 5,
   "id": "c6ea0161-861f-457a-ab1f-fbdfd0e45408",
   "metadata": {},
   "outputs": [
    {
     "data": {
      "text/html": [
       "<div>\n",
       "<style scoped>\n",
       "    .dataframe tbody tr th:only-of-type {\n",
       "        vertical-align: middle;\n",
       "    }\n",
       "\n",
       "    .dataframe tbody tr th {\n",
       "        vertical-align: top;\n",
       "    }\n",
       "\n",
       "    .dataframe thead th {\n",
       "        text-align: right;\n",
       "    }\n",
       "</style>\n",
       "<table border=\"1\" class=\"dataframe\">\n",
       "  <thead>\n",
       "    <tr style=\"text-align: right;\">\n",
       "      <th></th>\n",
       "      <th>ID_Produto</th>\n",
       "      <th>Data_Compra</th>\n",
       "      <th>Preco_Unitario</th>\n",
       "      <th>Quantidade_Itens</th>\n",
       "      <th>Produto</th>\n",
       "      <th>Metodo_Pagamento</th>\n",
       "      <th>Desconto_Aplicado</th>\n",
       "      <th>Estado</th>\n",
       "    </tr>\n",
       "  </thead>\n",
       "  <tbody>\n",
       "    <tr>\n",
       "      <th>0</th>\n",
       "      <td>X1</td>\n",
       "      <td>2024-09-01</td>\n",
       "      <td>400.0</td>\n",
       "      <td>2</td>\n",
       "      <td>Smartphone</td>\n",
       "      <td>Crédito</td>\n",
       "      <td>0</td>\n",
       "      <td>RS</td>\n",
       "    </tr>\n",
       "    <tr>\n",
       "      <th>1</th>\n",
       "      <td>X2</td>\n",
       "      <td>2024-09-05</td>\n",
       "      <td>350.0</td>\n",
       "      <td>1</td>\n",
       "      <td>Laptop</td>\n",
       "      <td>Pix</td>\n",
       "      <td>15</td>\n",
       "      <td>SC</td>\n",
       "    </tr>\n",
       "    <tr>\n",
       "      <th>2</th>\n",
       "      <td>X3</td>\n",
       "      <td>2024-09-06</td>\n",
       "      <td>700.0</td>\n",
       "      <td>3</td>\n",
       "      <td>TVs</td>\n",
       "      <td>Boleto</td>\n",
       "      <td>0</td>\n",
       "      <td>SP</td>\n",
       "    </tr>\n",
       "  </tbody>\n",
       "</table>\n",
       "</div>"
      ],
      "text/plain": [
       "  ID_Produto Data_Compra  Preco_Unitario  Quantidade_Itens     Produto  \\\n",
       "0         X1  2024-09-01           400.0                 2  Smartphone   \n",
       "1         X2  2024-09-05           350.0                 1      Laptop   \n",
       "2         X3  2024-09-06           700.0                 3         TVs   \n",
       "\n",
       "  Metodo_Pagamento  Desconto_Aplicado Estado  \n",
       "0          Crédito                  0     RS  \n",
       "1              Pix                 15     SC  \n",
       "2           Boleto                  0     SP  "
      ]
     },
     "execution_count": 5,
     "metadata": {},
     "output_type": "execute_result"
    }
   ],
   "source": [
    "# Imprimir\n",
    "df_planilha2.head(3)"
   ]
  },
  {
   "cell_type": "markdown",
   "id": "9116d15b-d2d6-40e5-ae66-0ec3b38f16d3",
   "metadata": {},
   "source": [
    "## Limpeza dos Dados ##"
   ]
  },
  {
   "cell_type": "code",
   "execution_count": 10,
   "id": "0f2a352a-c9fd-40bb-bade-4c844f55c210",
   "metadata": {},
   "outputs": [],
   "source": [
    "# Substituir os valores da Data_Compra de dezembro por outras datas já que o período analisado é SET-OUT-NOV\n",
    "df_planilha2['Data_Compra'] = df_planilha2['Data_Compra'].replace({'2024-12-01': '2024-09-01',\n",
    "                                                                   '2024-12-02': '2024-10-01',\n",
    "                                                                   '2024-12-03': '2024-11-01',\n",
    "                                                                  })"
   ]
  },
  {
   "cell_type": "code",
   "execution_count": 16,
   "id": "d74d58df-5ca8-4f6c-9510-d9d9cedb67f0",
   "metadata": {},
   "outputs": [],
   "source": [
    "# Certifique-se de que a coluna 'Quantidade_Itens' é numérica\n",
    "df_planilha2['Quantidade_Itens'] = pd.to_numeric(df_planilha2['Quantidade_Itens'], errors='coerce')"
   ]
  },
  {
   "cell_type": "code",
   "execution_count": 20,
   "id": "c5d7e71a-f2ce-433e-a0d4-a44c688bffa1",
   "metadata": {},
   "outputs": [],
   "source": [
    "# Substituir os valores da coluna 'Quantidade_Itens' de acordo com seu mapeamento\n",
    "df_planilha2['Quantidade_Itens'] = df_planilha2['Quantidade_Itens'].replace({6: 1,\n",
    "                                                                            5: 1,\n",
    "                                                                            7: 1,\n",
    "                                                                            8: 1,\n",
    "                                                                            9: 2,\n",
    "                                                                            10: 2,\n",
    "                                                                            11: 1})"
   ]
  },
  {
   "cell_type": "code",
   "execution_count": 21,
   "id": "8e96fbc4-a292-4e2d-9420-da3b1e5d90ee",
   "metadata": {},
   "outputs": [
    {
     "data": {
      "text/html": [
       "<div>\n",
       "<style scoped>\n",
       "    .dataframe tbody tr th:only-of-type {\n",
       "        vertical-align: middle;\n",
       "    }\n",
       "\n",
       "    .dataframe tbody tr th {\n",
       "        vertical-align: top;\n",
       "    }\n",
       "\n",
       "    .dataframe thead th {\n",
       "        text-align: right;\n",
       "    }\n",
       "</style>\n",
       "<table border=\"1\" class=\"dataframe\">\n",
       "  <thead>\n",
       "    <tr style=\"text-align: right;\">\n",
       "      <th></th>\n",
       "      <th>ID_Produto</th>\n",
       "      <th>Data_Compra</th>\n",
       "      <th>Preco_Unitario</th>\n",
       "      <th>Quantidade_Itens</th>\n",
       "      <th>Produto</th>\n",
       "      <th>Metodo_Pagamento</th>\n",
       "      <th>Desconto_Aplicado</th>\n",
       "      <th>Estado</th>\n",
       "    </tr>\n",
       "  </thead>\n",
       "  <tbody>\n",
       "    <tr>\n",
       "      <th>0</th>\n",
       "      <td>X1</td>\n",
       "      <td>2024-09-01</td>\n",
       "      <td>400.0</td>\n",
       "      <td>2</td>\n",
       "      <td>Smartphone</td>\n",
       "      <td>Crédito</td>\n",
       "      <td>0</td>\n",
       "      <td>RS</td>\n",
       "    </tr>\n",
       "    <tr>\n",
       "      <th>1</th>\n",
       "      <td>X2</td>\n",
       "      <td>2024-09-05</td>\n",
       "      <td>350.0</td>\n",
       "      <td>1</td>\n",
       "      <td>Laptop</td>\n",
       "      <td>Pix</td>\n",
       "      <td>15</td>\n",
       "      <td>SC</td>\n",
       "    </tr>\n",
       "    <tr>\n",
       "      <th>2</th>\n",
       "      <td>X3</td>\n",
       "      <td>2024-09-06</td>\n",
       "      <td>700.0</td>\n",
       "      <td>3</td>\n",
       "      <td>TVs</td>\n",
       "      <td>Boleto</td>\n",
       "      <td>0</td>\n",
       "      <td>SP</td>\n",
       "    </tr>\n",
       "    <tr>\n",
       "      <th>3</th>\n",
       "      <td>X4</td>\n",
       "      <td>2024-10-10</td>\n",
       "      <td>900.0</td>\n",
       "      <td>1</td>\n",
       "      <td>Fones de ouvido</td>\n",
       "      <td>Crédito</td>\n",
       "      <td>0</td>\n",
       "      <td>AC</td>\n",
       "    </tr>\n",
       "    <tr>\n",
       "      <th>4</th>\n",
       "      <td>X5</td>\n",
       "      <td>2024-10-05</td>\n",
       "      <td>150.0</td>\n",
       "      <td>1</td>\n",
       "      <td>Câmeras</td>\n",
       "      <td>Crédito</td>\n",
       "      <td>0</td>\n",
       "      <td>AL</td>\n",
       "    </tr>\n",
       "  </tbody>\n",
       "</table>\n",
       "</div>"
      ],
      "text/plain": [
       "  ID_Produto Data_Compra  Preco_Unitario  Quantidade_Itens          Produto  \\\n",
       "0         X1  2024-09-01           400.0                 2       Smartphone   \n",
       "1         X2  2024-09-05           350.0                 1           Laptop   \n",
       "2         X3  2024-09-06           700.0                 3              TVs   \n",
       "3         X4  2024-10-10           900.0                 1  Fones de ouvido   \n",
       "4         X5  2024-10-05           150.0                 1          Câmeras   \n",
       "\n",
       "  Metodo_Pagamento  Desconto_Aplicado Estado  \n",
       "0          Crédito                  0     RS  \n",
       "1              Pix                 15     SC  \n",
       "2           Boleto                  0     SP  \n",
       "3          Crédito                  0     AC  \n",
       "4          Crédito                  0     AL  "
      ]
     },
     "execution_count": 21,
     "metadata": {},
     "output_type": "execute_result"
    }
   ],
   "source": [
    "# Verificar as primeiras linhas para garantir que a alteração foi feita corretamente\n",
    "df_planilha2.head(5)"
   ]
  },
  {
   "cell_type": "code",
   "execution_count": 23,
   "id": "6847f9fc-1258-4c96-aafb-def6bd2547d2",
   "metadata": {},
   "outputs": [],
   "source": [
    "# Converter a coluna \"Data_Compra\" para datetime (caso não esteja nesse formato)\n",
    "df_planilha2['Data_Compra'] = pd.to_datetime(df_planilha2['Data_Compra'])"
   ]
  },
  {
   "cell_type": "code",
   "execution_count": 24,
   "id": "7442139a-b746-44aa-b70f-b4a64b892dbf",
   "metadata": {},
   "outputs": [],
   "source": [
    "# Formatar a coluna \"Data_Nascimento\" para manter apenas ano-mês-dia\n",
    "df_planilha2['Data_Compra'] = df_planilha2['Data_Compra'].dt.strftime('%Y-%m-%d')"
   ]
  },
  {
   "cell_type": "code",
   "execution_count": 25,
   "id": "2786e253-ea71-4339-930d-6e1f5794449f",
   "metadata": {},
   "outputs": [],
   "source": [
    "# Salvar o DataFrame modificado\n",
    "df_planilha2.to_excel('Compras.xlsx', sheet_name='Compras', index=False)"
   ]
  }
 ],
 "metadata": {
  "kernelspec": {
   "display_name": "Python 3 (ipykernel)",
   "language": "python",
   "name": "python3"
  },
  "language_info": {
   "codemirror_mode": {
    "name": "ipython",
    "version": 3
   },
   "file_extension": ".py",
   "mimetype": "text/x-python",
   "name": "python",
   "nbconvert_exporter": "python",
   "pygments_lexer": "ipython3",
   "version": "3.11.9"
  }
 },
 "nbformat": 4,
 "nbformat_minor": 5
}
