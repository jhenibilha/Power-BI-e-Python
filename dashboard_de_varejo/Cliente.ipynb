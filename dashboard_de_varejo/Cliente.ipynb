{
 "cells": [
  {
   "cell_type": "code",
   "execution_count": 1,
   "id": "9a217811-81cd-424d-b5e4-07248e48bc2f",
   "metadata": {},
   "outputs": [],
   "source": [
    "#Imports\n",
    "import pandas as pd\n",
    "import numpy as np\n",
    "import matplotlib.pyplot as plt\n",
    "import matplotlib as mpt\n",
    "import seaborn as sns"
   ]
  },
  {
   "cell_type": "markdown",
   "id": "df038ad5-afdf-4060-a1f6-df100ec3400d",
   "metadata": {},
   "source": [
    "## Carregando os Dados ##"
   ]
  },
  {
   "cell_type": "code",
   "execution_count": 3,
   "id": "0628d165-ac77-4ee2-a0f0-4fa8522bbf39",
   "metadata": {},
   "outputs": [],
   "source": [
    "# Carrega o dataset\n",
    "df_planilha1 = pd.read_excel(\"empresa_de_varejo.xlsx\", sheet_name='Cliente')"
   ]
  },
  {
   "cell_type": "code",
   "execution_count": 5,
   "id": "383aa79e-453f-4365-89c8-1ea1af05828f",
   "metadata": {},
   "outputs": [],
   "source": [
    "# Salvar uma cópia do DataFrame original antes de alterações\n",
    "df_planilha1.to_excel('empresa_de_varejo_copia_cliente.xlsx', sheet_name='Cliente', index=False)"
   ]
  },
  {
   "cell_type": "code",
   "execution_count": 6,
   "id": "6420cc7c-91ee-4fd4-bdc9-5cc2393df01e",
   "metadata": {},
   "outputs": [
    {
     "data": {
      "text/html": [
       "<div>\n",
       "<style scoped>\n",
       "    .dataframe tbody tr th:only-of-type {\n",
       "        vertical-align: middle;\n",
       "    }\n",
       "\n",
       "    .dataframe tbody tr th {\n",
       "        vertical-align: top;\n",
       "    }\n",
       "\n",
       "    .dataframe thead th {\n",
       "        text-align: right;\n",
       "    }\n",
       "</style>\n",
       "<table border=\"1\" class=\"dataframe\">\n",
       "  <thead>\n",
       "    <tr style=\"text-align: right;\">\n",
       "      <th></th>\n",
       "      <th>ID_Cliente</th>\n",
       "      <th>Nome_Cliente</th>\n",
       "      <th>Data_Nascimento</th>\n",
       "      <th>Genero</th>\n",
       "      <th>Estado</th>\n",
       "      <th>Tipo_Cliente</th>\n",
       "    </tr>\n",
       "  </thead>\n",
       "  <tbody>\n",
       "    <tr>\n",
       "      <th>0</th>\n",
       "      <td>1</td>\n",
       "      <td>Bruna C</td>\n",
       "      <td>1800-01-01 00:00:00.000</td>\n",
       "      <td>F</td>\n",
       "      <td>RS</td>\n",
       "      <td>Novo</td>\n",
       "    </tr>\n",
       "    <tr>\n",
       "      <th>1</th>\n",
       "      <td>2</td>\n",
       "      <td>Henrique P</td>\n",
       "      <td>2002-05-25 00:00:00.000</td>\n",
       "      <td>M</td>\n",
       "      <td>SC</td>\n",
       "      <td>Recorrente</td>\n",
       "    </tr>\n",
       "    <tr>\n",
       "      <th>2</th>\n",
       "      <td>3</td>\n",
       "      <td>Bruna E</td>\n",
       "      <td>1800-01-01 00:00:00.000</td>\n",
       "      <td>F</td>\n",
       "      <td>SP</td>\n",
       "      <td>VIP</td>\n",
       "    </tr>\n",
       "  </tbody>\n",
       "</table>\n",
       "</div>"
      ],
      "text/plain": [
       "   ID_Cliente Nome_Cliente          Data_Nascimento Genero Estado Tipo_Cliente\n",
       "0           1      Bruna C  1800-01-01 00:00:00.000      F     RS         Novo\n",
       "1           2   Henrique P  2002-05-25 00:00:00.000      M     SC   Recorrente\n",
       "2           3      Bruna E  1800-01-01 00:00:00.000      F     SP          VIP"
      ]
     },
     "execution_count": 6,
     "metadata": {},
     "output_type": "execute_result"
    }
   ],
   "source": [
    "# Imprimir\n",
    "df_planilha1.head(3)"
   ]
  },
  {
   "cell_type": "markdown",
   "id": "c33ea960-0acf-4288-baae-7b4f8e200438",
   "metadata": {},
   "source": [
    "## Limpeza dos Dados ##"
   ]
  },
  {
   "cell_type": "code",
   "execution_count": 7,
   "id": "27da8cd7-4be2-481c-a0df-ca3406060409",
   "metadata": {},
   "outputs": [],
   "source": [
    "# Converter a coluna \"Data_Nascimento\" para datetime (caso não esteja nesse formato)\n",
    "df_planilha1['Data_Nascimento'] = pd.to_datetime(df_planilha1['Data_Nascimento'])"
   ]
  },
  {
   "cell_type": "code",
   "execution_count": 8,
   "id": "fb235d58-db8d-4548-bede-a4a1e6ccec2d",
   "metadata": {},
   "outputs": [],
   "source": [
    "# Formatar a coluna \"Data_Nascimento\" para manter apenas ano-mês-dia\n",
    "df_planilha1['Data_Nascimento'] = df_planilha1['Data_Nascimento'].dt.strftime('%Y-%m-%d')"
   ]
  },
  {
   "cell_type": "code",
   "execution_count": 9,
   "id": "33700c3d-b367-4964-a03d-5beaaee16a6d",
   "metadata": {},
   "outputs": [
    {
     "data": {
      "text/html": [
       "<div>\n",
       "<style scoped>\n",
       "    .dataframe tbody tr th:only-of-type {\n",
       "        vertical-align: middle;\n",
       "    }\n",
       "\n",
       "    .dataframe tbody tr th {\n",
       "        vertical-align: top;\n",
       "    }\n",
       "\n",
       "    .dataframe thead th {\n",
       "        text-align: right;\n",
       "    }\n",
       "</style>\n",
       "<table border=\"1\" class=\"dataframe\">\n",
       "  <thead>\n",
       "    <tr style=\"text-align: right;\">\n",
       "      <th></th>\n",
       "      <th>ID_Cliente</th>\n",
       "      <th>Nome_Cliente</th>\n",
       "      <th>Data_Nascimento</th>\n",
       "      <th>Genero</th>\n",
       "      <th>Estado</th>\n",
       "      <th>Tipo_Cliente</th>\n",
       "    </tr>\n",
       "  </thead>\n",
       "  <tbody>\n",
       "    <tr>\n",
       "      <th>0</th>\n",
       "      <td>1</td>\n",
       "      <td>Bruna C</td>\n",
       "      <td>1800-01-01</td>\n",
       "      <td>F</td>\n",
       "      <td>RS</td>\n",
       "      <td>Novo</td>\n",
       "    </tr>\n",
       "    <tr>\n",
       "      <th>1</th>\n",
       "      <td>2</td>\n",
       "      <td>Henrique P</td>\n",
       "      <td>2002-05-25</td>\n",
       "      <td>M</td>\n",
       "      <td>SC</td>\n",
       "      <td>Recorrente</td>\n",
       "    </tr>\n",
       "    <tr>\n",
       "      <th>2</th>\n",
       "      <td>3</td>\n",
       "      <td>Bruna E</td>\n",
       "      <td>1800-01-01</td>\n",
       "      <td>F</td>\n",
       "      <td>SP</td>\n",
       "      <td>VIP</td>\n",
       "    </tr>\n",
       "  </tbody>\n",
       "</table>\n",
       "</div>"
      ],
      "text/plain": [
       "   ID_Cliente Nome_Cliente Data_Nascimento Genero Estado Tipo_Cliente\n",
       "0           1      Bruna C      1800-01-01      F     RS         Novo\n",
       "1           2   Henrique P      2002-05-25      M     SC   Recorrente\n",
       "2           3      Bruna E      1800-01-01      F     SP          VIP"
      ]
     },
     "execution_count": 9,
     "metadata": {},
     "output_type": "execute_result"
    }
   ],
   "source": [
    "# Verificar as primeiras linhas para garantir que a alteração foi feita corretamente\n",
    "df_planilha1.head(3)"
   ]
  },
  {
   "cell_type": "code",
   "execution_count": 10,
   "id": "7592a7c3-fecf-4381-a11c-fceb3294194b",
   "metadata": {},
   "outputs": [],
   "source": [
    "# Substituir os valores \"F\" por \"Feminino\" e \"M\" por \"Masculino\"\n",
    "df_planilha1['Genero'] = df_planilha1['Genero'].replace({'F': 'Feminino', 'M': 'Masculino'})"
   ]
  },
  {
   "cell_type": "code",
   "execution_count": 11,
   "id": "93567d8a-4a66-4709-86f1-5c048dada574",
   "metadata": {},
   "outputs": [
    {
     "data": {
      "text/html": [
       "<div>\n",
       "<style scoped>\n",
       "    .dataframe tbody tr th:only-of-type {\n",
       "        vertical-align: middle;\n",
       "    }\n",
       "\n",
       "    .dataframe tbody tr th {\n",
       "        vertical-align: top;\n",
       "    }\n",
       "\n",
       "    .dataframe thead th {\n",
       "        text-align: right;\n",
       "    }\n",
       "</style>\n",
       "<table border=\"1\" class=\"dataframe\">\n",
       "  <thead>\n",
       "    <tr style=\"text-align: right;\">\n",
       "      <th></th>\n",
       "      <th>ID_Cliente</th>\n",
       "      <th>Nome_Cliente</th>\n",
       "      <th>Data_Nascimento</th>\n",
       "      <th>Genero</th>\n",
       "      <th>Estado</th>\n",
       "      <th>Tipo_Cliente</th>\n",
       "    </tr>\n",
       "  </thead>\n",
       "  <tbody>\n",
       "    <tr>\n",
       "      <th>0</th>\n",
       "      <td>1</td>\n",
       "      <td>Bruna C</td>\n",
       "      <td>1800-01-01</td>\n",
       "      <td>Feminino</td>\n",
       "      <td>RS</td>\n",
       "      <td>Novo</td>\n",
       "    </tr>\n",
       "    <tr>\n",
       "      <th>1</th>\n",
       "      <td>2</td>\n",
       "      <td>Henrique P</td>\n",
       "      <td>2002-05-25</td>\n",
       "      <td>Masculino</td>\n",
       "      <td>SC</td>\n",
       "      <td>Recorrente</td>\n",
       "    </tr>\n",
       "    <tr>\n",
       "      <th>2</th>\n",
       "      <td>3</td>\n",
       "      <td>Bruna E</td>\n",
       "      <td>1800-01-01</td>\n",
       "      <td>Feminino</td>\n",
       "      <td>SP</td>\n",
       "      <td>VIP</td>\n",
       "    </tr>\n",
       "  </tbody>\n",
       "</table>\n",
       "</div>"
      ],
      "text/plain": [
       "   ID_Cliente Nome_Cliente Data_Nascimento     Genero Estado Tipo_Cliente\n",
       "0           1      Bruna C      1800-01-01   Feminino     RS         Novo\n",
       "1           2   Henrique P      2002-05-25  Masculino     SC   Recorrente\n",
       "2           3      Bruna E      1800-01-01   Feminino     SP          VIP"
      ]
     },
     "execution_count": 11,
     "metadata": {},
     "output_type": "execute_result"
    }
   ],
   "source": [
    "# Verificar as primeiras linhas para garantir que a alteração foi feita corretamente\n",
    "df_planilha1.head(3)"
   ]
  },
  {
   "cell_type": "code",
   "execution_count": 12,
   "id": "9041273c-9301-4283-99d6-7dbb69f9b4e1",
   "metadata": {},
   "outputs": [],
   "source": [
    "# Substituir os valores de \"1800-01-01\" da Data_Nascimento por \"0000-00-00\"\n",
    "df_planilha1['Data_Nascimento'] = df_planilha1['Data_Nascimento'].replace({'1800-01-01': '0000-00-00'})"
   ]
  },
  {
   "cell_type": "code",
   "execution_count": 13,
   "id": "851c6ef4-1848-4265-8d58-310379f55628",
   "metadata": {},
   "outputs": [
    {
     "data": {
      "text/html": [
       "<div>\n",
       "<style scoped>\n",
       "    .dataframe tbody tr th:only-of-type {\n",
       "        vertical-align: middle;\n",
       "    }\n",
       "\n",
       "    .dataframe tbody tr th {\n",
       "        vertical-align: top;\n",
       "    }\n",
       "\n",
       "    .dataframe thead th {\n",
       "        text-align: right;\n",
       "    }\n",
       "</style>\n",
       "<table border=\"1\" class=\"dataframe\">\n",
       "  <thead>\n",
       "    <tr style=\"text-align: right;\">\n",
       "      <th></th>\n",
       "      <th>ID_Cliente</th>\n",
       "      <th>Nome_Cliente</th>\n",
       "      <th>Data_Nascimento</th>\n",
       "      <th>Genero</th>\n",
       "      <th>Estado</th>\n",
       "      <th>Tipo_Cliente</th>\n",
       "    </tr>\n",
       "  </thead>\n",
       "  <tbody>\n",
       "    <tr>\n",
       "      <th>0</th>\n",
       "      <td>1</td>\n",
       "      <td>Bruna C</td>\n",
       "      <td>0000-00-00</td>\n",
       "      <td>Feminino</td>\n",
       "      <td>RS</td>\n",
       "      <td>Novo</td>\n",
       "    </tr>\n",
       "    <tr>\n",
       "      <th>1</th>\n",
       "      <td>2</td>\n",
       "      <td>Henrique P</td>\n",
       "      <td>2002-05-25</td>\n",
       "      <td>Masculino</td>\n",
       "      <td>SC</td>\n",
       "      <td>Recorrente</td>\n",
       "    </tr>\n",
       "    <tr>\n",
       "      <th>2</th>\n",
       "      <td>3</td>\n",
       "      <td>Bruna E</td>\n",
       "      <td>0000-00-00</td>\n",
       "      <td>Feminino</td>\n",
       "      <td>SP</td>\n",
       "      <td>VIP</td>\n",
       "    </tr>\n",
       "  </tbody>\n",
       "</table>\n",
       "</div>"
      ],
      "text/plain": [
       "   ID_Cliente Nome_Cliente Data_Nascimento     Genero Estado Tipo_Cliente\n",
       "0           1      Bruna C      0000-00-00   Feminino     RS         Novo\n",
       "1           2   Henrique P      2002-05-25  Masculino     SC   Recorrente\n",
       "2           3      Bruna E      0000-00-00   Feminino     SP          VIP"
      ]
     },
     "execution_count": 13,
     "metadata": {},
     "output_type": "execute_result"
    }
   ],
   "source": [
    "# Verificar as primeiras linhas para garantir que a alteração foi feita corretamente\n",
    "df_planilha1.head(3)"
   ]
  },
  {
   "cell_type": "markdown",
   "id": "a5d85079-ea2b-4fcd-8c00-79158aa76814",
   "metadata": {},
   "source": [
    "## Salvar o resultado ##"
   ]
  },
  {
   "cell_type": "code",
   "execution_count": 15,
   "id": "64f23da4-77d2-4899-97f7-45a5babbbe0b",
   "metadata": {},
   "outputs": [],
   "source": [
    "# Salvar o DataFrame modificado\n",
    "df_planilha1.to_excel('Cliente.xlsx', sheet_name='Cliente', index=False)"
   ]
  }
 ],
 "metadata": {
  "kernelspec": {
   "display_name": "Python 3 (ipykernel)",
   "language": "python",
   "name": "python3"
  },
  "language_info": {
   "codemirror_mode": {
    "name": "ipython",
    "version": 3
   },
   "file_extension": ".py",
   "mimetype": "text/x-python",
   "name": "python",
   "nbconvert_exporter": "python",
   "pygments_lexer": "ipython3",
   "version": "3.11.9"
  }
 },
 "nbformat": 4,
 "nbformat_minor": 5
}
