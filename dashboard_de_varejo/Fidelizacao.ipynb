{
 "cells": [
  {
   "cell_type": "code",
   "execution_count": 1,
   "id": "0cdc5ba8-bf0f-46bb-a924-c2efc912641d",
   "metadata": {},
   "outputs": [],
   "source": [
    "#Imports\n",
    "import pandas as pd\n",
    "import numpy as np"
   ]
  },
  {
   "cell_type": "markdown",
   "id": "1a108e92-173f-43ec-9f1b-33c9df00f5f0",
   "metadata": {},
   "source": [
    "## Carregando os Dados ##"
   ]
  },
  {
   "cell_type": "code",
   "execution_count": 2,
   "id": "8c8616f8-cb34-44d6-9271-c796bb3816a3",
   "metadata": {},
   "outputs": [],
   "source": [
    "# Carrega o dataset\n",
    "df_planilha3 = pd.read_excel(\"empresa_de_varejo.xlsx\", sheet_name='Fidelizacao')"
   ]
  },
  {
   "cell_type": "code",
   "execution_count": 3,
   "id": "b0b83cfb-2c15-4bf9-bd12-c7d721c7bd4d",
   "metadata": {},
   "outputs": [],
   "source": [
    "# Salvar uma cópia do DataFrame original antes de alterações\n",
    "df_planilha3.to_excel('empresa_de_varejo_copia_fidelizacao.xlsx', sheet_name='Fidelizacao', index=False)"
   ]
  },
  {
   "cell_type": "code",
   "execution_count": 4,
   "id": "9846dd2f-9b98-4a38-9d34-a2be8043c282",
   "metadata": {},
   "outputs": [
    {
     "data": {
      "text/html": [
       "<div>\n",
       "<style scoped>\n",
       "    .dataframe tbody tr th:only-of-type {\n",
       "        vertical-align: middle;\n",
       "    }\n",
       "\n",
       "    .dataframe tbody tr th {\n",
       "        vertical-align: top;\n",
       "    }\n",
       "\n",
       "    .dataframe thead th {\n",
       "        text-align: right;\n",
       "    }\n",
       "</style>\n",
       "<table border=\"1\" class=\"dataframe\">\n",
       "  <thead>\n",
       "    <tr style=\"text-align: right;\">\n",
       "      <th></th>\n",
       "      <th>ID_Cliente</th>\n",
       "      <th>Data_Cadastro</th>\n",
       "      <th>Status</th>\n",
       "      <th>Pontuação</th>\n",
       "      <th>Interacao_Suporte</th>\n",
       "      <th>Nivel_Satisfacao</th>\n",
       "    </tr>\n",
       "  </thead>\n",
       "  <tbody>\n",
       "    <tr>\n",
       "      <th>0</th>\n",
       "      <td>1</td>\n",
       "      <td>04/20</td>\n",
       "      <td>Normal</td>\n",
       "      <td>1</td>\n",
       "      <td>0</td>\n",
       "      <td>1</td>\n",
       "    </tr>\n",
       "    <tr>\n",
       "      <th>1</th>\n",
       "      <td>2</td>\n",
       "      <td>03/21</td>\n",
       "      <td>VIP</td>\n",
       "      <td>4</td>\n",
       "      <td>0</td>\n",
       "      <td>2</td>\n",
       "    </tr>\n",
       "    <tr>\n",
       "      <th>2</th>\n",
       "      <td>3</td>\n",
       "      <td>03/21</td>\n",
       "      <td>Normal</td>\n",
       "      <td>1</td>\n",
       "      <td>1</td>\n",
       "      <td>3</td>\n",
       "    </tr>\n",
       "  </tbody>\n",
       "</table>\n",
       "</div>"
      ],
      "text/plain": [
       "   ID_Cliente Data_Cadastro  Status  Pontuação  Interacao_Suporte  \\\n",
       "0           1         04/20  Normal          1                  0   \n",
       "1           2         03/21     VIP          4                  0   \n",
       "2           3         03/21  Normal          1                  1   \n",
       "\n",
       "   Nivel_Satisfacao  \n",
       "0                 1  \n",
       "1                 2  \n",
       "2                 3  "
      ]
     },
     "execution_count": 4,
     "metadata": {},
     "output_type": "execute_result"
    }
   ],
   "source": [
    "# Imprimir\n",
    "df_planilha3.head(3)"
   ]
  },
  {
   "cell_type": "markdown",
   "id": "5f75359e-bd8f-4f48-a23b-c7339e2dd6ca",
   "metadata": {},
   "source": [
    "## Limpeza dos Dados ##"
   ]
  },
  {
   "cell_type": "code",
   "execution_count": 7,
   "id": "be3f4df2-b0e5-44f2-a272-6aa1a3756f80",
   "metadata": {},
   "outputs": [],
   "source": [
    "# Substituir os valores \n",
    "df_planilha3['Data_Cadastro'] = df_planilha3['Data_Cadastro'].replace({'30/22': '05/22',\n",
    "                                                                       '30/24': '04/21',\n",
    "                                                                       '15/23': '02/20',\n",
    "                                                                       '30/23': '03/21'})"
   ]
  },
  {
   "cell_type": "code",
   "execution_count": 8,
   "id": "5082763b-0db5-46c6-a811-4f17554cf4f6",
   "metadata": {},
   "outputs": [
    {
     "data": {
      "text/html": [
       "<div>\n",
       "<style scoped>\n",
       "    .dataframe tbody tr th:only-of-type {\n",
       "        vertical-align: middle;\n",
       "    }\n",
       "\n",
       "    .dataframe tbody tr th {\n",
       "        vertical-align: top;\n",
       "    }\n",
       "\n",
       "    .dataframe thead th {\n",
       "        text-align: right;\n",
       "    }\n",
       "</style>\n",
       "<table border=\"1\" class=\"dataframe\">\n",
       "  <thead>\n",
       "    <tr style=\"text-align: right;\">\n",
       "      <th></th>\n",
       "      <th>ID_Cliente</th>\n",
       "      <th>Data_Cadastro</th>\n",
       "      <th>Status</th>\n",
       "      <th>Pontuação</th>\n",
       "      <th>Interacao_Suporte</th>\n",
       "      <th>Nivel_Satisfacao</th>\n",
       "    </tr>\n",
       "  </thead>\n",
       "  <tbody>\n",
       "    <tr>\n",
       "      <th>0</th>\n",
       "      <td>1</td>\n",
       "      <td>04/20</td>\n",
       "      <td>Normal</td>\n",
       "      <td>1</td>\n",
       "      <td>0</td>\n",
       "      <td>1</td>\n",
       "    </tr>\n",
       "    <tr>\n",
       "      <th>1</th>\n",
       "      <td>2</td>\n",
       "      <td>03/21</td>\n",
       "      <td>VIP</td>\n",
       "      <td>4</td>\n",
       "      <td>0</td>\n",
       "      <td>2</td>\n",
       "    </tr>\n",
       "    <tr>\n",
       "      <th>2</th>\n",
       "      <td>3</td>\n",
       "      <td>03/21</td>\n",
       "      <td>Normal</td>\n",
       "      <td>1</td>\n",
       "      <td>1</td>\n",
       "      <td>3</td>\n",
       "    </tr>\n",
       "    <tr>\n",
       "      <th>3</th>\n",
       "      <td>4</td>\n",
       "      <td>03/22</td>\n",
       "      <td>Normal</td>\n",
       "      <td>2</td>\n",
       "      <td>1</td>\n",
       "      <td>4</td>\n",
       "    </tr>\n",
       "    <tr>\n",
       "      <th>4</th>\n",
       "      <td>5</td>\n",
       "      <td>03/23</td>\n",
       "      <td>Normal</td>\n",
       "      <td>2</td>\n",
       "      <td>0</td>\n",
       "      <td>5</td>\n",
       "    </tr>\n",
       "  </tbody>\n",
       "</table>\n",
       "</div>"
      ],
      "text/plain": [
       "   ID_Cliente Data_Cadastro  Status  Pontuação  Interacao_Suporte  \\\n",
       "0           1         04/20  Normal          1                  0   \n",
       "1           2         03/21     VIP          4                  0   \n",
       "2           3         03/21  Normal          1                  1   \n",
       "3           4         03/22  Normal          2                  1   \n",
       "4           5         03/23  Normal          2                  0   \n",
       "\n",
       "   Nivel_Satisfacao  \n",
       "0                 1  \n",
       "1                 2  \n",
       "2                 3  \n",
       "3                 4  \n",
       "4                 5  "
      ]
     },
     "execution_count": 8,
     "metadata": {},
     "output_type": "execute_result"
    }
   ],
   "source": [
    "# Imprimir\n",
    "df_planilha3.head()"
   ]
  },
  {
   "cell_type": "code",
   "execution_count": 9,
   "id": "b62f88a2-66ed-4362-82d5-12f2cfc4e787",
   "metadata": {},
   "outputs": [],
   "source": [
    "# Converter a coluna 'Data_Cadastro' para o formato datetime, considerando o ano como '20'\n",
    "df_planilha3['Data_Cadastro'] = pd.to_datetime(df_planilha3['Data_Cadastro'], format='%m/%y')"
   ]
  },
  {
   "cell_type": "code",
   "execution_count": 10,
   "id": "a027dd57-b839-4599-864a-af5d9da38caa",
   "metadata": {},
   "outputs": [],
   "source": [
    "# Formatar a coluna para o formato MM/AAAA\n",
    "df_planilha3['Data_Cadastro'] = df_planilha3['Data_Cadastro'].dt.strftime('%m/%Y')"
   ]
  },
  {
   "cell_type": "code",
   "execution_count": 11,
   "id": "3ead50f3-5d5c-4fa1-ac88-87c85cc30889",
   "metadata": {},
   "outputs": [
    {
     "data": {
      "text/html": [
       "<div>\n",
       "<style scoped>\n",
       "    .dataframe tbody tr th:only-of-type {\n",
       "        vertical-align: middle;\n",
       "    }\n",
       "\n",
       "    .dataframe tbody tr th {\n",
       "        vertical-align: top;\n",
       "    }\n",
       "\n",
       "    .dataframe thead th {\n",
       "        text-align: right;\n",
       "    }\n",
       "</style>\n",
       "<table border=\"1\" class=\"dataframe\">\n",
       "  <thead>\n",
       "    <tr style=\"text-align: right;\">\n",
       "      <th></th>\n",
       "      <th>ID_Cliente</th>\n",
       "      <th>Data_Cadastro</th>\n",
       "      <th>Status</th>\n",
       "      <th>Pontuação</th>\n",
       "      <th>Interacao_Suporte</th>\n",
       "      <th>Nivel_Satisfacao</th>\n",
       "    </tr>\n",
       "  </thead>\n",
       "  <tbody>\n",
       "    <tr>\n",
       "      <th>0</th>\n",
       "      <td>1</td>\n",
       "      <td>04/2020</td>\n",
       "      <td>Normal</td>\n",
       "      <td>1</td>\n",
       "      <td>0</td>\n",
       "      <td>1</td>\n",
       "    </tr>\n",
       "    <tr>\n",
       "      <th>1</th>\n",
       "      <td>2</td>\n",
       "      <td>03/2021</td>\n",
       "      <td>VIP</td>\n",
       "      <td>4</td>\n",
       "      <td>0</td>\n",
       "      <td>2</td>\n",
       "    </tr>\n",
       "    <tr>\n",
       "      <th>2</th>\n",
       "      <td>3</td>\n",
       "      <td>03/2021</td>\n",
       "      <td>Normal</td>\n",
       "      <td>1</td>\n",
       "      <td>1</td>\n",
       "      <td>3</td>\n",
       "    </tr>\n",
       "    <tr>\n",
       "      <th>3</th>\n",
       "      <td>4</td>\n",
       "      <td>03/2022</td>\n",
       "      <td>Normal</td>\n",
       "      <td>2</td>\n",
       "      <td>1</td>\n",
       "      <td>4</td>\n",
       "    </tr>\n",
       "    <tr>\n",
       "      <th>4</th>\n",
       "      <td>5</td>\n",
       "      <td>03/2023</td>\n",
       "      <td>Normal</td>\n",
       "      <td>2</td>\n",
       "      <td>0</td>\n",
       "      <td>5</td>\n",
       "    </tr>\n",
       "  </tbody>\n",
       "</table>\n",
       "</div>"
      ],
      "text/plain": [
       "   ID_Cliente Data_Cadastro  Status  Pontuação  Interacao_Suporte  \\\n",
       "0           1       04/2020  Normal          1                  0   \n",
       "1           2       03/2021     VIP          4                  0   \n",
       "2           3       03/2021  Normal          1                  1   \n",
       "3           4       03/2022  Normal          2                  1   \n",
       "4           5       03/2023  Normal          2                  0   \n",
       "\n",
       "   Nivel_Satisfacao  \n",
       "0                 1  \n",
       "1                 2  \n",
       "2                 3  \n",
       "3                 4  \n",
       "4                 5  "
      ]
     },
     "execution_count": 11,
     "metadata": {},
     "output_type": "execute_result"
    }
   ],
   "source": [
    "# Imprimir\n",
    "df_planilha3.head()"
   ]
  },
  {
   "cell_type": "markdown",
   "id": "1204ef70-2331-4ad4-851d-0d46629b6622",
   "metadata": {},
   "source": [
    "## Salvar o Resultado ##"
   ]
  },
  {
   "cell_type": "code",
   "execution_count": 12,
   "id": "78bef14e-55ba-4d0c-b104-cfa38f79ae54",
   "metadata": {},
   "outputs": [],
   "source": [
    "# Salvar o DataFrame modificado\n",
    "df_planilha3.to_excel('Fidelizacao.xlsx', sheet_name='Fidelizacao', index=False)"
   ]
  }
 ],
 "metadata": {
  "kernelspec": {
   "display_name": "Python 3 (ipykernel)",
   "language": "python",
   "name": "python3"
  },
  "language_info": {
   "codemirror_mode": {
    "name": "ipython",
    "version": 3
   },
   "file_extension": ".py",
   "mimetype": "text/x-python",
   "name": "python",
   "nbconvert_exporter": "python",
   "pygments_lexer": "ipython3",
   "version": "3.11.9"
  }
 },
 "nbformat": 4,
 "nbformat_minor": 5
}
