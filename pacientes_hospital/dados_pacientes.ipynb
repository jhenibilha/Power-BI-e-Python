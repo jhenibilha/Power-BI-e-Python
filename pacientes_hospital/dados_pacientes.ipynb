{
 "cells": [
  {
   "cell_type": "code",
   "execution_count": 1,
   "id": "788bf9bd-7b2f-4de4-82a6-dc4411f97289",
   "metadata": {},
   "outputs": [],
   "source": [
    "import pandas as pd\n",
    "import numpy as np"
   ]
  },
  {
   "cell_type": "code",
   "execution_count": 2,
   "id": "1aebe516-4381-4996-840b-db94dfac8095",
   "metadata": {},
   "outputs": [],
   "source": [
    "df = pd.read_csv('dados_pacientes.csv')"
   ]
  },
  {
   "cell_type": "code",
   "execution_count": 3,
   "id": "f924df48-bad6-41fe-b78a-c0763eb2ad26",
   "metadata": {},
   "outputs": [
    {
     "data": {
      "text/html": [
       "<div>\n",
       "<style scoped>\n",
       "    .dataframe tbody tr th:only-of-type {\n",
       "        vertical-align: middle;\n",
       "    }\n",
       "\n",
       "    .dataframe tbody tr th {\n",
       "        vertical-align: top;\n",
       "    }\n",
       "\n",
       "    .dataframe thead th {\n",
       "        text-align: right;\n",
       "    }\n",
       "</style>\n",
       "<table border=\"1\" class=\"dataframe\">\n",
       "  <thead>\n",
       "    <tr style=\"text-align: right;\">\n",
       "      <th></th>\n",
       "      <th>Sexo</th>\n",
       "      <th>Idade</th>\n",
       "      <th>Diagnóstico</th>\n",
       "      <th>Data de Admissão</th>\n",
       "      <th>Tempo de Internação (dias)</th>\n",
       "      <th>Custo do Tratamento</th>\n",
       "      <th>Mês de Admissão</th>\n",
       "      <th>Data da Alta</th>\n",
       "    </tr>\n",
       "  </thead>\n",
       "  <tbody>\n",
       "    <tr>\n",
       "      <th>0</th>\n",
       "      <td>Masculino</td>\n",
       "      <td>48</td>\n",
       "      <td>COVID-19</td>\n",
       "      <td>2024-07-01</td>\n",
       "      <td>12</td>\n",
       "      <td>1281.68</td>\n",
       "      <td>7</td>\n",
       "      <td>2024-07-13</td>\n",
       "    </tr>\n",
       "    <tr>\n",
       "      <th>1</th>\n",
       "      <td>Masculino</td>\n",
       "      <td>29</td>\n",
       "      <td>Pneumonia</td>\n",
       "      <td>2024-11-01</td>\n",
       "      <td>10</td>\n",
       "      <td>1189.73</td>\n",
       "      <td>11</td>\n",
       "      <td>2024-11-11</td>\n",
       "    </tr>\n",
       "    <tr>\n",
       "      <th>2</th>\n",
       "      <td>Feminino</td>\n",
       "      <td>68</td>\n",
       "      <td>Infecção Urinária</td>\n",
       "      <td>2024-08-02</td>\n",
       "      <td>1</td>\n",
       "      <td>2609.73</td>\n",
       "      <td>8</td>\n",
       "      <td>2024-08-03</td>\n",
       "    </tr>\n",
       "    <tr>\n",
       "      <th>3</th>\n",
       "      <td>Feminino</td>\n",
       "      <td>53</td>\n",
       "      <td>Fratura</td>\n",
       "      <td>2024-08-14</td>\n",
       "      <td>6</td>\n",
       "      <td>2634.81</td>\n",
       "      <td>8</td>\n",
       "      <td>2024-08-20</td>\n",
       "    </tr>\n",
       "    <tr>\n",
       "      <th>4</th>\n",
       "      <td>Feminino</td>\n",
       "      <td>22</td>\n",
       "      <td>Infecção Urinária</td>\n",
       "      <td>2024-06-07</td>\n",
       "      <td>15</td>\n",
       "      <td>4740.54</td>\n",
       "      <td>6</td>\n",
       "      <td>2024-06-22</td>\n",
       "    </tr>\n",
       "  </tbody>\n",
       "</table>\n",
       "</div>"
      ],
      "text/plain": [
       "        Sexo  Idade        Diagnóstico Data de Admissão  \\\n",
       "0  Masculino     48           COVID-19       2024-07-01   \n",
       "1  Masculino     29          Pneumonia       2024-11-01   \n",
       "2   Feminino     68  Infecção Urinária       2024-08-02   \n",
       "3   Feminino     53            Fratura       2024-08-14   \n",
       "4   Feminino     22  Infecção Urinária       2024-06-07   \n",
       "\n",
       "   Tempo de Internação (dias)  Custo do Tratamento  Mês de Admissão  \\\n",
       "0                          12              1281.68                7   \n",
       "1                          10              1189.73               11   \n",
       "2                           1              2609.73                8   \n",
       "3                           6              2634.81                8   \n",
       "4                          15              4740.54                6   \n",
       "\n",
       "  Data da Alta  \n",
       "0   2024-07-13  \n",
       "1   2024-11-11  \n",
       "2   2024-08-03  \n",
       "3   2024-08-20  \n",
       "4   2024-06-22  "
      ]
     },
     "execution_count": 3,
     "metadata": {},
     "output_type": "execute_result"
    }
   ],
   "source": [
    "df.head()"
   ]
  },
  {
   "cell_type": "markdown",
   "id": "ab0108e3-930a-4068-ae33-a883a1b867ef",
   "metadata": {},
   "source": [
    "## 1. Qual é o custo médio de tratamento por diagnóstico?"
   ]
  },
  {
   "cell_type": "code",
   "execution_count": 4,
   "id": "091574ea-a05e-4ae1-a8d5-18157c958deb",
   "metadata": {},
   "outputs": [
    {
     "data": {
      "text/plain": [
       "Diagnóstico\n",
       "COVID-19                    3106.010812\n",
       "Diabetes                    3048.242749\n",
       "Doenças Cardiovasculares    2834.947865\n",
       "Fratura                     2889.029277\n",
       "Infecção Urinária           3065.481620\n",
       "Pneumonia                   3000.763219\n",
       "Name: Custo do Tratamento, dtype: float64"
      ]
     },
     "execution_count": 4,
     "metadata": {},
     "output_type": "execute_result"
    }
   ],
   "source": [
    "custo_medio_dig = df.groupby('Diagnóstico')[\"Custo do Tratamento\"].mean()\n",
    "custo_medio_dig"
   ]
  },
  {
   "cell_type": "markdown",
   "id": "f9bf3973-8566-451e-a0c0-1a6ade01bd80",
   "metadata": {},
   "source": [
    "## 2. Quais são os principais fatores que determinam o tempo de internação dos pacientes?"
   ]
  },
  {
   "cell_type": "code",
   "execution_count": 5,
   "id": "4c825d3e-20c4-430f-a661-ca44b8b28bb4",
   "metadata": {},
   "outputs": [],
   "source": [
    "perfil_maior_int = df.groupby('Diagnóstico')['Tempo de Internação (dias)'].mean().sort_values(ascending = False)\n",
    "perfil_maior_sexo = df.groupby('Sexo')['Tempo de Internação (dias)'].mean().sort_values(ascending = False)\n",
    "perfil_maior_idade = df.groupby('Idade')['Tempo de Internação (dias)'].mean().sort_values(ascending = False)"
   ]
  },
  {
   "cell_type": "code",
   "execution_count": 6,
   "id": "cda05bfe-c611-4395-99ad-95be8550bf54",
   "metadata": {},
   "outputs": [
    {
     "data": {
      "text/plain": [
       "Diagnóstico\n",
       "Pneumonia                   8.404110\n",
       "Infecção Urinária           8.357542\n",
       "Doenças Cardiovasculares    7.949438\n",
       "Diabetes                    7.929825\n",
       "COVID-19                    7.868750\n",
       "Fratura                     7.819277\n",
       "Name: Tempo de Internação (dias), dtype: float64"
      ]
     },
     "execution_count": 6,
     "metadata": {},
     "output_type": "execute_result"
    }
   ],
   "source": [
    "# Principais fatores por tempo de internação\n",
    "perfil_maior_int"
   ]
  },
  {
   "cell_type": "code",
   "execution_count": 7,
   "id": "958c26e0-a825-445a-b123-c817e2686fd2",
   "metadata": {},
   "outputs": [
    {
     "data": {
      "text/plain": [
       "Sexo\n",
       "Feminino     8.166998\n",
       "Masculino    7.933602\n",
       "Name: Tempo de Internação (dias), dtype: float64"
      ]
     },
     "execution_count": 7,
     "metadata": {},
     "output_type": "execute_result"
    }
   ],
   "source": [
    "# Principal perfil com maior tempo de internação\n",
    "perfil_maior_sexo"
   ]
  },
  {
   "cell_type": "code",
   "execution_count": 8,
   "id": "6a19b401-169d-4ee9-904f-5d459a2999d8",
   "metadata": {},
   "outputs": [
    {
     "data": {
      "text/plain": [
       "Idade\n",
       "27    10.363636\n",
       "50    10.055556\n",
       "80    10.000000\n",
       "23    10.000000\n",
       "29     9.812500\n",
       "        ...    \n",
       "70     6.529412\n",
       "82     6.500000\n",
       "68     6.470588\n",
       "24     5.200000\n",
       "41     4.300000\n",
       "Name: Tempo de Internação (dias), Length: 68, dtype: float64"
      ]
     },
     "execution_count": 8,
     "metadata": {},
     "output_type": "execute_result"
    }
   ],
   "source": [
    "# Principais idades com maiores tempo de internação\n",
    "perfil_maior_idade"
   ]
  },
  {
   "cell_type": "markdown",
   "id": "55953a2f-91ee-4097-8cf1-004d4f2fc9c7",
   "metadata": {},
   "source": [
    "## 3. Existe uma correlação entre o custo do tratamento e a idade dos pacientes? Pacientes mais velhos têm tratamentos mais caros?"
   ]
  },
  {
   "cell_type": "code",
   "execution_count": 9,
   "id": "6f1ef4af-34a2-4518-896c-2be62e08e407",
   "metadata": {},
   "outputs": [
    {
     "data": {
      "text/plain": [
       "Idade\n",
       "77    3707.965333\n",
       "42    3684.703000\n",
       "81    3664.150000\n",
       "18    3626.145000\n",
       "43    3385.077500\n",
       "         ...     \n",
       "22    2500.370000\n",
       "20    2469.723636\n",
       "54    2408.563571\n",
       "27    2324.573636\n",
       "31    2193.545000\n",
       "Name: Custo do Tratamento, Length: 68, dtype: float64"
      ]
     },
     "execution_count": 9,
     "metadata": {},
     "output_type": "execute_result"
    }
   ],
   "source": [
    "# Correlação entre o custo do treinamento e a idade dos pacientes\n",
    "custo_por_paciente = df.groupby('Idade')['Custo do Tratamento'].mean().sort_values(ascending = False)\n",
    "custo_por_paciente"
   ]
  },
  {
   "cell_type": "markdown",
   "id": "760d78d7-d9cf-4a3f-9cc4-91b11e655796",
   "metadata": {},
   "source": [
    "## 4. Quais diagnósticos estão associados a uma maior taxa de internação prolongada (mais de 7 dias)?"
   ]
  },
  {
   "cell_type": "code",
   "execution_count": 10,
   "id": "fe32e1da-f217-4de1-bcc4-3e4e1810b866",
   "metadata": {},
   "outputs": [
    {
     "name": "stdout",
     "output_type": "stream",
     "text": [
      "Diagnóstico\n",
      "Infecção Urinária           99\n",
      "Doenças Cardiovasculares    96\n",
      "Diabetes                    94\n",
      "Fratura                     90\n",
      "Pneumonia                   83\n",
      "COVID-19                    82\n",
      "Name: count, dtype: int64\n"
     ]
    }
   ],
   "source": [
    "# Diagnósticos com maiores taxas de internação (mais de 7 dias)\n",
    "internacoes_longas = df[df['Tempo de Internação (dias)'] > 7]\n",
    "diagnostico_longas_internacoes = internacoes_longas['Diagnóstico'].value_counts()\n",
    "print(diagnostico_longas_internacoes)"
   ]
  },
  {
   "cell_type": "markdown",
   "id": "f3d70004-3e77-4f0c-a6a6-9080722950df",
   "metadata": {},
   "source": [
    "## 5. Qual a distribuição de diagnósticos entre pacientes masculinos e femininos?"
   ]
  },
  {
   "cell_type": "code",
   "execution_count": 11,
   "id": "c871ad33-a116-489c-9301-9713a20571a3",
   "metadata": {},
   "outputs": [
    {
     "data": {
      "text/plain": [
       "Sexo       Diagnóstico             \n",
       "Feminino   Infecção Urinária           96\n",
       "           Doenças Cardiovasculares    89\n",
       "           Fratura                     89\n",
       "           Diabetes                    78\n",
       "           COVID-19                    77\n",
       "           Pneumonia                   74\n",
       "Masculino  Diabetes                    93\n",
       "           Doenças Cardiovasculares    89\n",
       "           COVID-19                    83\n",
       "           Infecção Urinária           83\n",
       "           Fratura                     77\n",
       "           Pneumonia                   72\n",
       "Name: count, dtype: int64"
      ]
     },
     "execution_count": 11,
     "metadata": {},
     "output_type": "execute_result"
    }
   ],
   "source": [
    "# Primeira forma de responder\n",
    "distribuicao_pacientes = df.groupby('Sexo')['Diagnóstico'].value_counts()\n",
    "distribuicao_pacientes"
   ]
  },
  {
   "cell_type": "code",
   "execution_count": 12,
   "id": "33008adc-ced7-49cd-8347-7726ca9d536e",
   "metadata": {},
   "outputs": [
    {
     "name": "stdout",
     "output_type": "stream",
     "text": [
      "Diagnóstico  COVID-19  Diabetes  Doenças Cardiovasculares  Fratura  \\\n",
      "Sexo                                                                 \n",
      "Feminino           77        78                        89       89   \n",
      "Masculino          83        93                        89       77   \n",
      "\n",
      "Diagnóstico  Infecção Urinária  Pneumonia  \n",
      "Sexo                                       \n",
      "Feminino                    96         74  \n",
      "Masculino                   83         72  \n"
     ]
    }
   ],
   "source": [
    "# Segunda forma de responder\n",
    "distribuicao_sexo_diagnostico = df.groupby(['Sexo', 'Diagnóstico']).size().unstack()\n",
    "print(distribuicao_sexo_diagnostico)"
   ]
  },
  {
   "cell_type": "markdown",
   "id": "8f2a9c58-aebd-40fb-bf4e-80d66f0f97d1",
   "metadata": {},
   "source": [
    "## 6. Quais meses do ano têm mais admissões hospitalares? Existem períodos de pico?"
   ]
  },
  {
   "cell_type": "code",
   "execution_count": 13,
   "id": "55f90d98-c8ff-47f4-ba86-76ae9a45780a",
   "metadata": {},
   "outputs": [
    {
     "name": "stdout",
     "output_type": "stream",
     "text": [
      "Mês de Admissão\n",
      "1      73\n",
      "2      68\n",
      "3      86\n",
      "4      72\n",
      "5     101\n",
      "6      79\n",
      "7      86\n",
      "8      88\n",
      "9      85\n",
      "10     75\n",
      "11     91\n",
      "12     96\n",
      "dtype: int64\n"
     ]
    }
   ],
   "source": [
    "# Meses do ano com mais admissões hospitalares\n",
    "df['Mês de Admissão'] = pd.to_datetime(df['Data de Admissão']).dt.month\n",
    "admissões_por_mes = df.groupby('Mês de Admissão').size()\n",
    "print(admissões_por_mes)"
   ]
  },
  {
   "cell_type": "code",
   "execution_count": 14,
   "id": "08a50cb3-b3c3-46ff-acec-457a6aa6ba98",
   "metadata": {},
   "outputs": [
    {
     "data": {
      "text/html": [
       "<div>\n",
       "<style scoped>\n",
       "    .dataframe tbody tr th:only-of-type {\n",
       "        vertical-align: middle;\n",
       "    }\n",
       "\n",
       "    .dataframe tbody tr th {\n",
       "        vertical-align: top;\n",
       "    }\n",
       "\n",
       "    .dataframe thead th {\n",
       "        text-align: right;\n",
       "    }\n",
       "</style>\n",
       "<table border=\"1\" class=\"dataframe\">\n",
       "  <thead>\n",
       "    <tr style=\"text-align: right;\">\n",
       "      <th></th>\n",
       "      <th>Sexo</th>\n",
       "      <th>Idade</th>\n",
       "      <th>Diagnóstico</th>\n",
       "      <th>Data de Admissão</th>\n",
       "      <th>Tempo de Internação (dias)</th>\n",
       "      <th>Custo do Tratamento</th>\n",
       "      <th>Mês de Admissão</th>\n",
       "      <th>Data da Alta</th>\n",
       "    </tr>\n",
       "  </thead>\n",
       "  <tbody>\n",
       "    <tr>\n",
       "      <th>0</th>\n",
       "      <td>Masculino</td>\n",
       "      <td>48</td>\n",
       "      <td>COVID-19</td>\n",
       "      <td>2024-07-01</td>\n",
       "      <td>12</td>\n",
       "      <td>1281.68</td>\n",
       "      <td>7</td>\n",
       "      <td>2024-07-13</td>\n",
       "    </tr>\n",
       "    <tr>\n",
       "      <th>1</th>\n",
       "      <td>Masculino</td>\n",
       "      <td>29</td>\n",
       "      <td>Pneumonia</td>\n",
       "      <td>2024-11-01</td>\n",
       "      <td>10</td>\n",
       "      <td>1189.73</td>\n",
       "      <td>11</td>\n",
       "      <td>2024-11-11</td>\n",
       "    </tr>\n",
       "    <tr>\n",
       "      <th>2</th>\n",
       "      <td>Feminino</td>\n",
       "      <td>68</td>\n",
       "      <td>Infecção Urinária</td>\n",
       "      <td>2024-08-02</td>\n",
       "      <td>1</td>\n",
       "      <td>2609.73</td>\n",
       "      <td>8</td>\n",
       "      <td>2024-08-03</td>\n",
       "    </tr>\n",
       "    <tr>\n",
       "      <th>3</th>\n",
       "      <td>Feminino</td>\n",
       "      <td>53</td>\n",
       "      <td>Fratura</td>\n",
       "      <td>2024-08-14</td>\n",
       "      <td>6</td>\n",
       "      <td>2634.81</td>\n",
       "      <td>8</td>\n",
       "      <td>2024-08-20</td>\n",
       "    </tr>\n",
       "    <tr>\n",
       "      <th>4</th>\n",
       "      <td>Feminino</td>\n",
       "      <td>22</td>\n",
       "      <td>Infecção Urinária</td>\n",
       "      <td>2024-06-07</td>\n",
       "      <td>15</td>\n",
       "      <td>4740.54</td>\n",
       "      <td>6</td>\n",
       "      <td>2024-06-22</td>\n",
       "    </tr>\n",
       "  </tbody>\n",
       "</table>\n",
       "</div>"
      ],
      "text/plain": [
       "        Sexo  Idade        Diagnóstico Data de Admissão  \\\n",
       "0  Masculino     48           COVID-19       2024-07-01   \n",
       "1  Masculino     29          Pneumonia       2024-11-01   \n",
       "2   Feminino     68  Infecção Urinária       2024-08-02   \n",
       "3   Feminino     53            Fratura       2024-08-14   \n",
       "4   Feminino     22  Infecção Urinária       2024-06-07   \n",
       "\n",
       "   Tempo de Internação (dias)  Custo do Tratamento  Mês de Admissão  \\\n",
       "0                          12              1281.68                7   \n",
       "1                          10              1189.73               11   \n",
       "2                           1              2609.73                8   \n",
       "3                           6              2634.81                8   \n",
       "4                          15              4740.54                6   \n",
       "\n",
       "  Data da Alta  \n",
       "0   2024-07-13  \n",
       "1   2024-11-11  \n",
       "2   2024-08-03  \n",
       "3   2024-08-20  \n",
       "4   2024-06-22  "
      ]
     },
     "execution_count": 14,
     "metadata": {},
     "output_type": "execute_result"
    }
   ],
   "source": [
    "# Imprimir\n",
    "df.head()"
   ]
  },
  {
   "cell_type": "markdown",
   "id": "17b94b01-a066-4026-8585-1991dfc86b05",
   "metadata": {},
   "source": [
    "## 7. Existe uma diferença significativa no custo do tratamento entre os sexos?"
   ]
  },
  {
   "cell_type": "code",
   "execution_count": 15,
   "id": "83e3213e-51ab-426c-ace7-19a24d7818bd",
   "metadata": {},
   "outputs": [
    {
     "data": {
      "text/plain": [
       "Sexo\n",
       "Feminino     1494217.34\n",
       "Masculino    1495026.12\n",
       "Name: Custo do Tratamento, dtype: float64"
      ]
     },
     "execution_count": 15,
     "metadata": {},
     "output_type": "execute_result"
    }
   ],
   "source": [
    "# Soma do custo de tratamento por sexo\n",
    "custo_sexo = df.groupby('Sexo')['Custo do Tratamento'].sum()\n",
    "custo_sexo"
   ]
  },
  {
   "cell_type": "code",
   "execution_count": 16,
   "id": "b43814d1-eaca-46b8-8afa-cba9afb97211",
   "metadata": {},
   "outputs": [
    {
     "name": "stdout",
     "output_type": "stream",
     "text": [
      "Sexo\n",
      "Feminino     2970.611014\n",
      "Masculino    3008.100845\n",
      "Name: Custo do Tratamento, dtype: float64\n"
     ]
    }
   ],
   "source": [
    "# Média do custo de tratamento por sexo\n",
    "custo_medio_por_sexo = df.groupby('Sexo')['Custo do Tratamento'].mean()\n",
    "print(custo_medio_por_sexo)"
   ]
  },
  {
   "cell_type": "markdown",
   "id": "846ec13d-e4af-44d9-9430-2cf753f15882",
   "metadata": {},
   "source": [
    "## 8. Qual é o custo médio de tratamento e o tempo médio de internação para pacientes com mais de 70 anos?"
   ]
  },
  {
   "cell_type": "code",
   "execution_count": 17,
   "id": "19a8939b-4000-4d75-8818-a8c8a34c36ef",
   "metadata": {},
   "outputs": [
    {
     "name": "stdout",
     "output_type": "stream",
     "text": [
      "Custo médio de tratamento: R$2989.86\n",
      "Tempo médio de internação: 8.12 dias\n"
     ]
    }
   ],
   "source": [
    "# Custo médio de tratamento e tempo médio de internação\n",
    "pacientes_maior_70 = df[df['Idade'] > 70]\n",
    "custo_medio_70 = pacientes_maior_70['Custo do Tratamento'].mean()\n",
    "tempo_medio_70 = pacientes_maior_70['Tempo de Internação (dias)'].mean()\n",
    "print(f'Custo médio de tratamento: R${custo_medio_70:.2f}')\n",
    "print(f'Tempo médio de internação: {tempo_medio_70:.2f} dias')"
   ]
  },
  {
   "cell_type": "markdown",
   "id": "e6d02c39-be76-4d2b-9dfb-570f2f5d884a",
   "metadata": {},
   "source": [
    "## 9. Quais características dos pacientes estão associadas a uma alta probabilidade de internação longa?"
   ]
  },
  {
   "cell_type": "code",
   "execution_count": 18,
   "id": "456c7e31-408d-406d-9cad-1787d80ff897",
   "metadata": {},
   "outputs": [
    {
     "name": "stdout",
     "output_type": "stream",
     "text": [
      "            Idade  Custo do Tratamento\n",
      "count  544.000000           544.000000\n",
      "mean    53.231618          3010.970184\n",
      "std     19.201597          1151.947883\n",
      "min     18.000000          1000.790000\n",
      "25%     37.000000          2033.835000\n",
      "50%     53.000000          3006.615000\n",
      "75%     71.000000          4011.175000\n",
      "max     85.000000          4992.920000\n"
     ]
    }
   ],
   "source": [
    "# Distribuição Estatística\n",
    "internos_prolongados = df[df['Tempo de Internação (dias)'] > 7]\n",
    "caracteristicas = internos_prolongados[['Sexo', 'Idade', 'Diagnóstico', 'Custo do Tratamento']]\n",
    "print(caracteristicas.describe())"
   ]
  },
  {
   "cell_type": "markdown",
   "id": "1efc3462-7e01-4621-a9ee-682ad2bb57f7",
   "metadata": {},
   "source": [
    "## 10. Quais diagnósticos têm maior tempo de internação e custo? Como podemos otimizar esses tratamentos?"
   ]
  },
  {
   "cell_type": "code",
   "execution_count": 19,
   "id": "2801e8f6-9750-46cf-a99d-1e016a1f8afc",
   "metadata": {},
   "outputs": [
    {
     "data": {
      "text/plain": [
       "Diagnóstico\n",
       "Infecção Urinária           1496\n",
       "Doenças Cardiovasculares    1415\n",
       "Diabetes                    1356\n",
       "Fratura                     1298\n",
       "COVID-19                    1259\n",
       "Pneumonia                   1227\n",
       "Name: Tempo de Internação (dias), dtype: int64"
      ]
     },
     "execution_count": 19,
     "metadata": {},
     "output_type": "execute_result"
    }
   ],
   "source": [
    "# Dianósticos com maior tempo de internação e custo\n",
    "diagnostico_maior_custo = df.groupby('Diagnóstico')['Tempo de Internação (dias)'].sum().sort_values(ascending = False)\n",
    "diagnostico_maior_custo"
   ]
  },
  {
   "cell_type": "code",
   "execution_count": 20,
   "id": "fd18c1b5-1a20-4deb-9c01-47135ec02dbd",
   "metadata": {},
   "outputs": [
    {
     "data": {
      "text/html": [
       "<div>\n",
       "<style scoped>\n",
       "    .dataframe tbody tr th:only-of-type {\n",
       "        vertical-align: middle;\n",
       "    }\n",
       "\n",
       "    .dataframe tbody tr th {\n",
       "        vertical-align: top;\n",
       "    }\n",
       "\n",
       "    .dataframe thead th {\n",
       "        text-align: right;\n",
       "    }\n",
       "</style>\n",
       "<table border=\"1\" class=\"dataframe\">\n",
       "  <thead>\n",
       "    <tr style=\"text-align: right;\">\n",
       "      <th></th>\n",
       "      <th>Sexo</th>\n",
       "      <th>Idade</th>\n",
       "      <th>Diagnóstico</th>\n",
       "      <th>Data de Admissão</th>\n",
       "      <th>Tempo de Internação (dias)</th>\n",
       "      <th>Custo do Tratamento</th>\n",
       "      <th>Mês de Admissão</th>\n",
       "      <th>Data da Alta</th>\n",
       "    </tr>\n",
       "  </thead>\n",
       "  <tbody>\n",
       "    <tr>\n",
       "      <th>0</th>\n",
       "      <td>Masculino</td>\n",
       "      <td>48</td>\n",
       "      <td>COVID-19</td>\n",
       "      <td>2024-07-01</td>\n",
       "      <td>12</td>\n",
       "      <td>1281.68</td>\n",
       "      <td>7</td>\n",
       "      <td>2024-07-13</td>\n",
       "    </tr>\n",
       "    <tr>\n",
       "      <th>1</th>\n",
       "      <td>Masculino</td>\n",
       "      <td>29</td>\n",
       "      <td>Pneumonia</td>\n",
       "      <td>2024-11-01</td>\n",
       "      <td>10</td>\n",
       "      <td>1189.73</td>\n",
       "      <td>11</td>\n",
       "      <td>2024-11-11</td>\n",
       "    </tr>\n",
       "    <tr>\n",
       "      <th>2</th>\n",
       "      <td>Feminino</td>\n",
       "      <td>68</td>\n",
       "      <td>Infecção Urinária</td>\n",
       "      <td>2024-08-02</td>\n",
       "      <td>1</td>\n",
       "      <td>2609.73</td>\n",
       "      <td>8</td>\n",
       "      <td>2024-08-03</td>\n",
       "    </tr>\n",
       "    <tr>\n",
       "      <th>3</th>\n",
       "      <td>Feminino</td>\n",
       "      <td>53</td>\n",
       "      <td>Fratura</td>\n",
       "      <td>2024-08-14</td>\n",
       "      <td>6</td>\n",
       "      <td>2634.81</td>\n",
       "      <td>8</td>\n",
       "      <td>2024-08-20</td>\n",
       "    </tr>\n",
       "    <tr>\n",
       "      <th>4</th>\n",
       "      <td>Feminino</td>\n",
       "      <td>22</td>\n",
       "      <td>Infecção Urinária</td>\n",
       "      <td>2024-06-07</td>\n",
       "      <td>15</td>\n",
       "      <td>4740.54</td>\n",
       "      <td>6</td>\n",
       "      <td>2024-06-22</td>\n",
       "    </tr>\n",
       "  </tbody>\n",
       "</table>\n",
       "</div>"
      ],
      "text/plain": [
       "        Sexo  Idade        Diagnóstico Data de Admissão  \\\n",
       "0  Masculino     48           COVID-19       2024-07-01   \n",
       "1  Masculino     29          Pneumonia       2024-11-01   \n",
       "2   Feminino     68  Infecção Urinária       2024-08-02   \n",
       "3   Feminino     53            Fratura       2024-08-14   \n",
       "4   Feminino     22  Infecção Urinária       2024-06-07   \n",
       "\n",
       "   Tempo de Internação (dias)  Custo do Tratamento  Mês de Admissão  \\\n",
       "0                          12              1281.68                7   \n",
       "1                          10              1189.73               11   \n",
       "2                           1              2609.73                8   \n",
       "3                           6              2634.81                8   \n",
       "4                          15              4740.54                6   \n",
       "\n",
       "  Data da Alta  \n",
       "0   2024-07-13  \n",
       "1   2024-11-11  \n",
       "2   2024-08-03  \n",
       "3   2024-08-20  \n",
       "4   2024-06-22  "
      ]
     },
     "execution_count": 20,
     "metadata": {},
     "output_type": "execute_result"
    }
   ],
   "source": [
    "# Garantir que a coluna 'Data de Admissão' seja do tipo datetime\n",
    "df['Data de Admissão'] = pd.to_datetime(df['Data de Admissão'])\n",
    "\n",
    "# Criar a nova coluna 'Data da Alta' somando o 'Tempo de Internação (dias)' à 'Data de Admissão'\n",
    "df['Data da Alta'] = df['Data de Admissão'] + pd.to_timedelta(df['Tempo de Internação (dias)'], unit='D')\n",
    "\n",
    "# Imprimir\n",
    "df.head()"
   ]
  },
  {
   "cell_type": "code",
   "execution_count": 21,
   "id": "17290f01-f640-4a80-baa8-4c206d511017",
   "metadata": {},
   "outputs": [],
   "source": [
    "# \"pd.to_timedelta()\" é uma função do Pandas que converte uma sequência de números ou valores (como o Tempo de Internação (dias))\n",
    "# para um delta de tempo, ou seja, uma diferença de tempo (um intervalo).\n",
    "\n",
    "# unit='D' especifica que o valor a ser transformado em delta de tempo é dado em dias. "
   ]
  },
  {
   "cell_type": "code",
   "execution_count": 22,
   "id": "8194be74-9e51-46b0-8f92-5ae1cdae71bd",
   "metadata": {},
   "outputs": [],
   "source": [
    "# Salvar o dataset\n",
    "df.to_csv('dados_pacientes.csv', index = False)"
   ]
  }
 ],
 "metadata": {
  "kernelspec": {
   "display_name": "Python 3 (ipykernel)",
   "language": "python",
   "name": "python3"
  },
  "language_info": {
   "codemirror_mode": {
    "name": "ipython",
    "version": 3
   },
   "file_extension": ".py",
   "mimetype": "text/x-python",
   "name": "python",
   "nbconvert_exporter": "python",
   "pygments_lexer": "ipython3",
   "version": "3.11.9"
  }
 },
 "nbformat": 4,
 "nbformat_minor": 5
}
