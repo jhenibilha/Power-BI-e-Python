{
 "cells": [
  {
   "cell_type": "markdown",
   "id": "b015fa12-4c06-4edc-a92c-338dc7ff2142",
   "metadata": {},
   "source": [
    "## Construtora de Casas e Apartamentos"
   ]
  },
  {
   "cell_type": "markdown",
   "id": "6a61c8cb-cfcd-4c0d-bcdf-4bd948190f0c",
   "metadata": {},
   "source": [
    "### Objetivos:"
   ]
  },
  {
   "cell_type": "markdown",
   "id": "591c2c14-3b37-412f-80a1-aaf09192e6cc",
   "metadata": {},
   "source": [
    "##### - Verificar valores duplicados\n",
    "##### - Verificar valores ausentes\n",
    "##### - Tratar valores duplicados \n",
    "##### - Verificar valores ausentes\n",
    "##### - Tratando valores ausentes do dataset \"moveis\" com fillna()\n",
    "##### - Merge entre as tabelas vendas e imóveis para ver as vendas por imovel (casas  e apartamentos)"
   ]
  },
  {
   "cell_type": "code",
   "execution_count": 1,
   "id": "66449646-5465-4c2c-b657-5f4aca9f39ac",
   "metadata": {},
   "outputs": [],
   "source": [
    "import numpy as np\n",
    "import pandas as pd"
   ]
  },
  {
   "cell_type": "code",
   "execution_count": 2,
   "id": "f996c728-2122-45cf-8ed9-b9a2e5e56cc4",
   "metadata": {},
   "outputs": [],
   "source": [
    "# Carregar os datasets\n",
    "df_imoveis = pd.read_csv('imoveis.csv')\n",
    "df_clientes = pd.read_csv('clientes.csv')\n",
    "df_vendas = pd.read_csv('vendas.csv')"
   ]
  },
  {
   "cell_type": "code",
   "execution_count": 3,
   "id": "1f355fdf-cb6b-419a-b13d-af958d3e28f2",
   "metadata": {},
   "outputs": [
    {
     "name": "stdout",
     "output_type": "stream",
     "text": [
      "Quantidade de registros duplicados em Imóveis: 0\n",
      "Quantidade de registros duplicados em Clientes: 0\n",
      "Quantidade de registros duplicados em Vendas: 0\n"
     ]
    }
   ],
   "source": [
    "# Contando os registros duplicados em cada DataFrame\n",
    "duplicados_imoveis_count = df_imoveis.duplicated().sum()\n",
    "print(f\"Quantidade de registros duplicados em Imóveis: {duplicados_imoveis_count}\")\n",
    "\n",
    "duplicados_clientes_count = df_clientes.duplicated().sum()\n",
    "print(f\"Quantidade de registros duplicados em Clientes: {duplicados_clientes_count}\")\n",
    "\n",
    "duplicados_vendas_count = df_vendas.duplicated().sum()\n",
    "print(f\"Quantidade de registros duplicados em Vendas: {duplicados_vendas_count}\")"
   ]
  },
  {
   "cell_type": "code",
   "execution_count": 4,
   "id": "93466ad7-c5d0-4798-b4cd-21e394c8926d",
   "metadata": {},
   "outputs": [
    {
     "name": "stdout",
     "output_type": "stream",
     "text": [
      "Quantidade de valores ausentes em Imóveis:\n",
      "imovel_id          0\n",
      "tipo_imovel        8\n",
      "preco              2\n",
      "bairro             7\n",
      "data_construcao    0\n",
      "dtype: int64\n",
      "\n",
      "Quantidade de valores ausentes em Clientes:\n",
      "id_cliente         0\n",
      "nome_cliente       0\n",
      "cpf                0\n",
      "data_nascimento    0\n",
      "dtype: int64\n",
      "\n",
      "Quantidade de valores ausentes em Vendas:\n",
      "venda_id      0\n",
      "imovel_id     0\n",
      "data_venda    0\n",
      "dtype: int64\n"
     ]
    }
   ],
   "source": [
    "# Contar valores ausentes em cada Dataframe\n",
    "ausentes_imoveis = df_imoveis.isna().sum()\n",
    "print(\"Quantidade de valores ausentes em Imóveis:\")\n",
    "print(ausentes_imoveis)\n",
    "\n",
    "ausentes_clientes = df_clientes.isna().sum()\n",
    "print(\"\\nQuantidade de valores ausentes em Clientes:\")\n",
    "print(ausentes_clientes)\n",
    "\n",
    "ausentes_vendas = df_vendas.isna().sum()\n",
    "print(\"\\nQuantidade de valores ausentes em Vendas:\")\n",
    "print(ausentes_vendas)"
   ]
  },
  {
   "cell_type": "markdown",
   "id": "7df406a3-cc88-4df9-ad18-14b417325e21",
   "metadata": {},
   "source": [
    "## Merge"
   ]
  },
  {
   "cell_type": "code",
   "execution_count": 5,
   "id": "219a64b9-c13f-4662-b05f-948a9324203a",
   "metadata": {},
   "outputs": [
    {
     "data": {
      "text/html": [
       "<div>\n",
       "<style scoped>\n",
       "    .dataframe tbody tr th:only-of-type {\n",
       "        vertical-align: middle;\n",
       "    }\n",
       "\n",
       "    .dataframe tbody tr th {\n",
       "        vertical-align: top;\n",
       "    }\n",
       "\n",
       "    .dataframe thead th {\n",
       "        text-align: right;\n",
       "    }\n",
       "</style>\n",
       "<table border=\"1\" class=\"dataframe\">\n",
       "  <thead>\n",
       "    <tr style=\"text-align: right;\">\n",
       "      <th></th>\n",
       "      <th>venda_id</th>\n",
       "      <th>imovel_id</th>\n",
       "      <th>data_venda</th>\n",
       "      <th>tipo_imovel</th>\n",
       "      <th>preco</th>\n",
       "      <th>bairro</th>\n",
       "      <th>data_construcao</th>\n",
       "    </tr>\n",
       "  </thead>\n",
       "  <tbody>\n",
       "    <tr>\n",
       "      <th>0</th>\n",
       "      <td>1</td>\n",
       "      <td>82</td>\n",
       "      <td>2023-10-17</td>\n",
       "      <td>Apartamento</td>\n",
       "      <td>193163.08</td>\n",
       "      <td>Moinhos de Vento</td>\n",
       "      <td>2016-09-03</td>\n",
       "    </tr>\n",
       "    <tr>\n",
       "      <th>1</th>\n",
       "      <td>2</td>\n",
       "      <td>82</td>\n",
       "      <td>2021-05-26</td>\n",
       "      <td>Apartamento</td>\n",
       "      <td>193163.08</td>\n",
       "      <td>Moinhos de Vento</td>\n",
       "      <td>2016-09-03</td>\n",
       "    </tr>\n",
       "    <tr>\n",
       "      <th>2</th>\n",
       "      <td>3</td>\n",
       "      <td>92</td>\n",
       "      <td>2019-08-19</td>\n",
       "      <td>Casa</td>\n",
       "      <td>202969.24</td>\n",
       "      <td>Ponta Grossa</td>\n",
       "      <td>2017-04-04</td>\n",
       "    </tr>\n",
       "    <tr>\n",
       "      <th>3</th>\n",
       "      <td>4</td>\n",
       "      <td>73</td>\n",
       "      <td>2021-10-09</td>\n",
       "      <td>Casa</td>\n",
       "      <td>304024.04</td>\n",
       "      <td>Ponta Grossa</td>\n",
       "      <td>2020-05-15</td>\n",
       "    </tr>\n",
       "    <tr>\n",
       "      <th>4</th>\n",
       "      <td>5</td>\n",
       "      <td>11</td>\n",
       "      <td>2020-02-21</td>\n",
       "      <td>Apartamento</td>\n",
       "      <td>395038.51</td>\n",
       "      <td>Vila Flores</td>\n",
       "      <td>2018-09-03</td>\n",
       "    </tr>\n",
       "  </tbody>\n",
       "</table>\n",
       "</div>"
      ],
      "text/plain": [
       "   venda_id  imovel_id  data_venda  tipo_imovel      preco            bairro  \\\n",
       "0         1         82  2023-10-17  Apartamento  193163.08  Moinhos de Vento   \n",
       "1         2         82  2021-05-26  Apartamento  193163.08  Moinhos de Vento   \n",
       "2         3         92  2019-08-19         Casa  202969.24      Ponta Grossa   \n",
       "3         4         73  2021-10-09         Casa  304024.04      Ponta Grossa   \n",
       "4         5         11  2020-02-21  Apartamento  395038.51       Vila Flores   \n",
       "\n",
       "  data_construcao  \n",
       "0      2016-09-03  \n",
       "1      2016-09-03  \n",
       "2      2017-04-04  \n",
       "3      2020-05-15  \n",
       "4      2018-09-03  "
      ]
     },
     "execution_count": 5,
     "metadata": {},
     "output_type": "execute_result"
    }
   ],
   "source": [
    "# Merge entre vendas e imóveis, usando 'imovel_id' como chave de relacionamento\n",
    "df_vendas_imoveis = pd.merge(df_vendas, df_imoveis, on='imovel_id', how='inner')\n",
    "df_vendas_imoveis.head()"
   ]
  },
  {
   "cell_type": "code",
   "execution_count": 6,
   "id": "3d9377de-c861-4c98-bd1b-18968b74b6e1",
   "metadata": {},
   "outputs": [],
   "source": [
    "# Salvar em um novo dataset\n",
    "df_vendas_imoveis.to_csv('vendas_imoveis.csv', index = False)"
   ]
  },
  {
   "cell_type": "code",
   "execution_count": 7,
   "id": "8f3bc964-4ecf-4137-a598-4ba20a64c465",
   "metadata": {},
   "outputs": [],
   "source": [
    "# Tratar os valores ausentes das colunas 'preco' e 'bairro' da coluna 'imoveis'\n",
    "\n",
    "# Preencher valores ausentes em 'preco' com a média da coluna\n",
    "df_imoveis['preco'] = df_imoveis['preco'].fillna(df_imoveis['preco'].mean())\n",
    "\n",
    "# Preencher valores ausentes em 'bairro' com uma string\n",
    "df_imoveis['bairro'] = df_imoveis['bairro'].fillna('Não especificado')"
   ]
  },
  {
   "cell_type": "code",
   "execution_count": 8,
   "id": "a0c4bc63-07f8-4158-9401-425df0c0c2e7",
   "metadata": {},
   "outputs": [],
   "source": [
    "# Preencher 'tipo_imovel' com a moda (valor mais comum)\n",
    "df_imoveis['tipo_imovel'] = df_imoveis['tipo_imovel'].fillna(df_imoveis['tipo_imovel'].mode()[0])"
   ]
  },
  {
   "cell_type": "code",
   "execution_count": 9,
   "id": "d0425819-58e5-4c0a-9fed-6f859ced7854",
   "metadata": {},
   "outputs": [
    {
     "name": "stdout",
     "output_type": "stream",
     "text": [
      "Quantidade de valores ausentes em Imóveis:\n",
      "imovel_id          0\n",
      "tipo_imovel        0\n",
      "preco              0\n",
      "bairro             0\n",
      "data_construcao    0\n",
      "dtype: int64\n"
     ]
    }
   ],
   "source": [
    "# Contar valores ausentes em cada Dataframe\n",
    "ausentes_imoveis = df_imoveis.isna().sum()\n",
    "print(\"Quantidade de valores ausentes em Imóveis:\")\n",
    "print(ausentes_imoveis)"
   ]
  },
  {
   "cell_type": "code",
   "execution_count": 10,
   "id": "018b532e-501b-4990-bbbe-c3e4d7cd9df8",
   "metadata": {},
   "outputs": [
    {
     "data": {
      "text/html": [
       "<div>\n",
       "<style scoped>\n",
       "    .dataframe tbody tr th:only-of-type {\n",
       "        vertical-align: middle;\n",
       "    }\n",
       "\n",
       "    .dataframe tbody tr th {\n",
       "        vertical-align: top;\n",
       "    }\n",
       "\n",
       "    .dataframe thead th {\n",
       "        text-align: right;\n",
       "    }\n",
       "</style>\n",
       "<table border=\"1\" class=\"dataframe\">\n",
       "  <thead>\n",
       "    <tr style=\"text-align: right;\">\n",
       "      <th></th>\n",
       "      <th>imovel_id</th>\n",
       "      <th>tipo_imovel</th>\n",
       "      <th>preco</th>\n",
       "      <th>bairro</th>\n",
       "      <th>data_construcao</th>\n",
       "    </tr>\n",
       "  </thead>\n",
       "  <tbody>\n",
       "    <tr>\n",
       "      <th>0</th>\n",
       "      <td>1</td>\n",
       "      <td>Apartamento</td>\n",
       "      <td>395437.81000</td>\n",
       "      <td>Petrópolis</td>\n",
       "      <td>2015-01-13</td>\n",
       "    </tr>\n",
       "    <tr>\n",
       "      <th>1</th>\n",
       "      <td>2</td>\n",
       "      <td>Casa</td>\n",
       "      <td>602374.77000</td>\n",
       "      <td>Vila Flores</td>\n",
       "      <td>2016-07-24</td>\n",
       "    </tr>\n",
       "    <tr>\n",
       "      <th>2</th>\n",
       "      <td>3</td>\n",
       "      <td>Casa</td>\n",
       "      <td>419592.43000</td>\n",
       "      <td>Campo Bom</td>\n",
       "      <td>2015-12-11</td>\n",
       "    </tr>\n",
       "    <tr>\n",
       "      <th>3</th>\n",
       "      <td>4</td>\n",
       "      <td>Casa</td>\n",
       "      <td>720023.60000</td>\n",
       "      <td>Vila Flores</td>\n",
       "      <td>2016-10-20</td>\n",
       "    </tr>\n",
       "    <tr>\n",
       "      <th>4</th>\n",
       "      <td>5</td>\n",
       "      <td>Apartamento</td>\n",
       "      <td>609305.69000</td>\n",
       "      <td>Centro</td>\n",
       "      <td>2018-03-24</td>\n",
       "    </tr>\n",
       "    <tr>\n",
       "      <th>5</th>\n",
       "      <td>6</td>\n",
       "      <td>Casa</td>\n",
       "      <td>449770.94551</td>\n",
       "      <td>Vila Flores</td>\n",
       "      <td>2016-06-01</td>\n",
       "    </tr>\n",
       "    <tr>\n",
       "      <th>6</th>\n",
       "      <td>7</td>\n",
       "      <td>Casa</td>\n",
       "      <td>249231.72000</td>\n",
       "      <td>Centro</td>\n",
       "      <td>2018-12-07</td>\n",
       "    </tr>\n",
       "    <tr>\n",
       "      <th>7</th>\n",
       "      <td>8</td>\n",
       "      <td>Casa</td>\n",
       "      <td>490808.01000</td>\n",
       "      <td>Petrópolis</td>\n",
       "      <td>2015-06-09</td>\n",
       "    </tr>\n",
       "    <tr>\n",
       "      <th>8</th>\n",
       "      <td>9</td>\n",
       "      <td>Apartamento</td>\n",
       "      <td>513835.08000</td>\n",
       "      <td>Moinhos de Vento</td>\n",
       "      <td>2018-08-17</td>\n",
       "    </tr>\n",
       "    <tr>\n",
       "      <th>9</th>\n",
       "      <td>10</td>\n",
       "      <td>Apartamento</td>\n",
       "      <td>697649.90000</td>\n",
       "      <td>Vila Flores</td>\n",
       "      <td>2016-10-13</td>\n",
       "    </tr>\n",
       "  </tbody>\n",
       "</table>\n",
       "</div>"
      ],
      "text/plain": [
       "   imovel_id  tipo_imovel         preco            bairro data_construcao\n",
       "0          1  Apartamento  395437.81000        Petrópolis      2015-01-13\n",
       "1          2         Casa  602374.77000       Vila Flores      2016-07-24\n",
       "2          3         Casa  419592.43000         Campo Bom      2015-12-11\n",
       "3          4         Casa  720023.60000       Vila Flores      2016-10-20\n",
       "4          5  Apartamento  609305.69000            Centro      2018-03-24\n",
       "5          6         Casa  449770.94551       Vila Flores      2016-06-01\n",
       "6          7         Casa  249231.72000            Centro      2018-12-07\n",
       "7          8         Casa  490808.01000        Petrópolis      2015-06-09\n",
       "8          9  Apartamento  513835.08000  Moinhos de Vento      2018-08-17\n",
       "9         10  Apartamento  697649.90000       Vila Flores      2016-10-13"
      ]
     },
     "execution_count": 10,
     "metadata": {},
     "output_type": "execute_result"
    }
   ],
   "source": [
    "df_imoveis.head(10)"
   ]
  },
  {
   "cell_type": "code",
   "execution_count": 11,
   "id": "d401fdb9-a51a-4fdc-8fd4-a947b5a1d742",
   "metadata": {},
   "outputs": [],
   "source": [
    "# Salvar os resultados tratados\n",
    "df_imoveis.to_csv('imoveis_modificado.csv', index=False)\n",
    "df_clientes.to_csv('clientes.csv', index = False)\n",
    "df_vendas.to_csv('vendas.csv', index = False)"
   ]
  }
 ],
 "metadata": {
  "kernelspec": {
   "display_name": "Python 3 (ipykernel)",
   "language": "python",
   "name": "python3"
  },
  "language_info": {
   "codemirror_mode": {
    "name": "ipython",
    "version": 3
   },
   "file_extension": ".py",
   "mimetype": "text/x-python",
   "name": "python",
   "nbconvert_exporter": "python",
   "pygments_lexer": "ipython3",
   "version": "3.11.9"
  }
 },
 "nbformat": 4,
 "nbformat_minor": 5
}
