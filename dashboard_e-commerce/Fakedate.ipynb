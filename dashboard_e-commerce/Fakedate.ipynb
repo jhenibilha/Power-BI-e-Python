{
 "cells": [
  {
   "cell_type": "code",
   "execution_count": 2,
   "id": "127de202-377d-46a7-b17e-2ef31f0b6412",
   "metadata": {},
   "outputs": [
    {
     "name": "stdout",
     "output_type": "stream",
     "text": [
      "Dataset gerado e salvo com sucesso!\n"
     ]
    }
   ],
   "source": [
    "import pandas as pd\n",
    "import numpy as np\n",
    "import random\n",
    "from datetime import datetime, timedelta\n",
    "\n",
    "# Definir parâmetros para o dataset\n",
    "n = 1000  # número de registros\n",
    "categorias_produtos = ['Eletrônicos', 'Roupas', 'Alimentos', 'Móveis', 'Beleza']\n",
    "regioes = ['Norte', 'Sul', 'Leste', 'Oeste']\n",
    "clientes = [f'Cliente_{i}' for i in range(1, 201)]\n",
    "produtos = ['Produto_A', 'Produto_B', 'Produto_C', 'Produto_D', 'Produto_E']\n",
    "\n",
    "# Função para gerar datas aleatórias dentro de um intervalo\n",
    "def random_date(start_date, end_date):\n",
    "    return start_date + timedelta(\n",
    "        seconds=random.randint(0, int((end_date - start_date).total_seconds()))\n",
    "    )\n",
    "\n",
    "# Definir intervalo de datas para as vendas\n",
    "start_date = datetime(2023, 1, 1)\n",
    "end_date = datetime(2025, 1, 1)\n",
    "\n",
    "# Gerar o dataset\n",
    "data = {\n",
    "    'ID_Venda': [f'V{str(i).zfill(4)}' for i in range(1, n+1)],\n",
    "    'Data_Venda': [random_date(start_date, end_date) for _ in range(n)],\n",
    "    'Cliente': [random.choice(clientes) for _ in range(n)],\n",
    "    'Produto': [random.choice(produtos) for _ in range(n)],\n",
    "    'Categoria': [random.choice(categorias_produtos) for _ in range(n)],\n",
    "    'Regiao': [random.choice(regioes) for _ in range(n)],\n",
    "    'Valor_Venda': [round(random.uniform(10, 1000), 2) for _ in range(n)],\n",
    "    'Quantidade': [random.randint(1, 5) for _ in range(n)],\n",
    "}\n",
    "\n",
    "# Criar DataFrame\n",
    "df = pd.DataFrame(data)\n",
    "\n",
    "# Adicionar uma coluna de 'Total' (valor da venda * quantidade)\n",
    "df['Total'] = df['Valor_Venda'] * df['Quantidade']\n",
    "\n",
    "# Exibir as primeiras linhas do dataset\n",
    "df.head()\n",
    "\n",
    "# Salvar o dataset em um arquivo CSV\n",
    "df.to_csv('vendas.csv', index=False)\n",
    "\n",
    "print(\"Dataset gerado e salvo com sucesso!\")"
   ]
  }
 ],
 "metadata": {
  "kernelspec": {
   "display_name": "Python 3 (ipykernel)",
   "language": "python",
   "name": "python3"
  },
  "language_info": {
   "codemirror_mode": {
    "name": "ipython",
    "version": 3
   },
   "file_extension": ".py",
   "mimetype": "text/x-python",
   "name": "python",
   "nbconvert_exporter": "python",
   "pygments_lexer": "ipython3",
   "version": "3.11.9"
  }
 },
 "nbformat": 4,
 "nbformat_minor": 5
}
