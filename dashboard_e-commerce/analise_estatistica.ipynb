{
 "cells": [
  {
   "cell_type": "markdown",
   "id": "815827a8-8fcd-44cc-aab9-e4ed4b4d217c",
   "metadata": {},
   "source": [
    "## Empresa de E-Commerce"
   ]
  },
  {
   "cell_type": "code",
   "execution_count": 1,
   "id": "980be835-6dc4-4bf7-927f-d6c6c06999e2",
   "metadata": {},
   "outputs": [],
   "source": [
    "# Importação dos pacotes\n",
    "import pandas as pd\n",
    "import numpy as np"
   ]
  },
  {
   "cell_type": "code",
   "execution_count": 3,
   "id": "a6853a85-a6ee-438e-83b9-636e5663e5b5",
   "metadata": {},
   "outputs": [],
   "source": [
    "# Carregar o dataset\n",
    "df = pd.read_csv(\"vendas.csv\")"
   ]
  },
  {
   "cell_type": "code",
   "execution_count": 4,
   "id": "70cceba7-adef-4746-8d5a-e7a13f16fe42",
   "metadata": {},
   "outputs": [
    {
     "data": {
      "text/html": [
       "<div>\n",
       "<style scoped>\n",
       "    .dataframe tbody tr th:only-of-type {\n",
       "        vertical-align: middle;\n",
       "    }\n",
       "\n",
       "    .dataframe tbody tr th {\n",
       "        vertical-align: top;\n",
       "    }\n",
       "\n",
       "    .dataframe thead th {\n",
       "        text-align: right;\n",
       "    }\n",
       "</style>\n",
       "<table border=\"1\" class=\"dataframe\">\n",
       "  <thead>\n",
       "    <tr style=\"text-align: right;\">\n",
       "      <th></th>\n",
       "      <th>ID_Venda</th>\n",
       "      <th>Data_Venda</th>\n",
       "      <th>Cliente</th>\n",
       "      <th>Produto</th>\n",
       "      <th>Categoria</th>\n",
       "      <th>Regiao</th>\n",
       "      <th>Valor_Venda</th>\n",
       "      <th>Quantidade</th>\n",
       "      <th>Total</th>\n",
       "    </tr>\n",
       "  </thead>\n",
       "  <tbody>\n",
       "    <tr>\n",
       "      <th>0</th>\n",
       "      <td>V0001</td>\n",
       "      <td>2023-12-25 00:44:51</td>\n",
       "      <td>Cliente_128</td>\n",
       "      <td>Produto_C</td>\n",
       "      <td>Alimentos</td>\n",
       "      <td>Oeste</td>\n",
       "      <td>294.60</td>\n",
       "      <td>2</td>\n",
       "      <td>589.20</td>\n",
       "    </tr>\n",
       "    <tr>\n",
       "      <th>1</th>\n",
       "      <td>V0002</td>\n",
       "      <td>2024-08-16 05:57:44</td>\n",
       "      <td>Cliente_177</td>\n",
       "      <td>Produto_E</td>\n",
       "      <td>Móveis</td>\n",
       "      <td>Sul</td>\n",
       "      <td>169.74</td>\n",
       "      <td>3</td>\n",
       "      <td>509.22</td>\n",
       "    </tr>\n",
       "    <tr>\n",
       "      <th>2</th>\n",
       "      <td>V0003</td>\n",
       "      <td>2023-01-01 16:51:03</td>\n",
       "      <td>Cliente_84</td>\n",
       "      <td>Produto_B</td>\n",
       "      <td>Roupas</td>\n",
       "      <td>Sul</td>\n",
       "      <td>130.78</td>\n",
       "      <td>3</td>\n",
       "      <td>392.34</td>\n",
       "    </tr>\n",
       "    <tr>\n",
       "      <th>3</th>\n",
       "      <td>V0004</td>\n",
       "      <td>2024-11-07 23:37:58</td>\n",
       "      <td>Cliente_78</td>\n",
       "      <td>Produto_A</td>\n",
       "      <td>Eletrônicos</td>\n",
       "      <td>Sul</td>\n",
       "      <td>510.95</td>\n",
       "      <td>2</td>\n",
       "      <td>1021.90</td>\n",
       "    </tr>\n",
       "    <tr>\n",
       "      <th>4</th>\n",
       "      <td>V0005</td>\n",
       "      <td>2023-03-25 07:51:39</td>\n",
       "      <td>Cliente_138</td>\n",
       "      <td>Produto_D</td>\n",
       "      <td>Eletrônicos</td>\n",
       "      <td>Norte</td>\n",
       "      <td>228.76</td>\n",
       "      <td>3</td>\n",
       "      <td>686.28</td>\n",
       "    </tr>\n",
       "  </tbody>\n",
       "</table>\n",
       "</div>"
      ],
      "text/plain": [
       "  ID_Venda           Data_Venda      Cliente    Produto    Categoria Regiao  \\\n",
       "0    V0001  2023-12-25 00:44:51  Cliente_128  Produto_C    Alimentos  Oeste   \n",
       "1    V0002  2024-08-16 05:57:44  Cliente_177  Produto_E       Móveis    Sul   \n",
       "2    V0003  2023-01-01 16:51:03   Cliente_84  Produto_B       Roupas    Sul   \n",
       "3    V0004  2024-11-07 23:37:58   Cliente_78  Produto_A  Eletrônicos    Sul   \n",
       "4    V0005  2023-03-25 07:51:39  Cliente_138  Produto_D  Eletrônicos  Norte   \n",
       "\n",
       "   Valor_Venda  Quantidade    Total  \n",
       "0       294.60           2   589.20  \n",
       "1       169.74           3   509.22  \n",
       "2       130.78           3   392.34  \n",
       "3       510.95           2  1021.90  \n",
       "4       228.76           3   686.28  "
      ]
     },
     "execution_count": 4,
     "metadata": {},
     "output_type": "execute_result"
    }
   ],
   "source": [
    "# Imprimir\n",
    "df.head()"
   ]
  },
  {
   "cell_type": "markdown",
   "id": "7efc8656-fff7-4cb3-a14b-0e5c19e18e12",
   "metadata": {},
   "source": [
    "## 1. Análise Descritiva:"
   ]
  },
  {
   "cell_type": "code",
   "execution_count": 5,
   "id": "8d8e11d2-fe1a-431b-8b8f-806290826db0",
   "metadata": {},
   "outputs": [
    {
     "data": {
      "text/html": [
       "<div>\n",
       "<style scoped>\n",
       "    .dataframe tbody tr th:only-of-type {\n",
       "        vertical-align: middle;\n",
       "    }\n",
       "\n",
       "    .dataframe tbody tr th {\n",
       "        vertical-align: top;\n",
       "    }\n",
       "\n",
       "    .dataframe thead th {\n",
       "        text-align: right;\n",
       "    }\n",
       "</style>\n",
       "<table border=\"1\" class=\"dataframe\">\n",
       "  <thead>\n",
       "    <tr style=\"text-align: right;\">\n",
       "      <th></th>\n",
       "      <th>Valor_Venda</th>\n",
       "      <th>Quantidade</th>\n",
       "      <th>Total</th>\n",
       "    </tr>\n",
       "  </thead>\n",
       "  <tbody>\n",
       "    <tr>\n",
       "      <th>count</th>\n",
       "      <td>1000.000000</td>\n",
       "      <td>1000.000000</td>\n",
       "      <td>1000.000000</td>\n",
       "    </tr>\n",
       "    <tr>\n",
       "      <th>mean</th>\n",
       "      <td>498.711620</td>\n",
       "      <td>2.956000</td>\n",
       "      <td>1482.084630</td>\n",
       "    </tr>\n",
       "    <tr>\n",
       "      <th>std</th>\n",
       "      <td>287.041439</td>\n",
       "      <td>1.412111</td>\n",
       "      <td>1194.887462</td>\n",
       "    </tr>\n",
       "    <tr>\n",
       "      <th>min</th>\n",
       "      <td>10.030000</td>\n",
       "      <td>1.000000</td>\n",
       "      <td>16.310000</td>\n",
       "    </tr>\n",
       "    <tr>\n",
       "      <th>25%</th>\n",
       "      <td>245.622500</td>\n",
       "      <td>2.000000</td>\n",
       "      <td>508.280000</td>\n",
       "    </tr>\n",
       "    <tr>\n",
       "      <th>50%</th>\n",
       "      <td>513.240000</td>\n",
       "      <td>3.000000</td>\n",
       "      <td>1165.260000</td>\n",
       "    </tr>\n",
       "    <tr>\n",
       "      <th>75%</th>\n",
       "      <td>735.515000</td>\n",
       "      <td>4.000000</td>\n",
       "      <td>2167.155000</td>\n",
       "    </tr>\n",
       "    <tr>\n",
       "      <th>max</th>\n",
       "      <td>999.970000</td>\n",
       "      <td>5.000000</td>\n",
       "      <td>4986.900000</td>\n",
       "    </tr>\n",
       "  </tbody>\n",
       "</table>\n",
       "</div>"
      ],
      "text/plain": [
       "       Valor_Venda   Quantidade        Total\n",
       "count  1000.000000  1000.000000  1000.000000\n",
       "mean    498.711620     2.956000  1482.084630\n",
       "std     287.041439     1.412111  1194.887462\n",
       "min      10.030000     1.000000    16.310000\n",
       "25%     245.622500     2.000000   508.280000\n",
       "50%     513.240000     3.000000  1165.260000\n",
       "75%     735.515000     4.000000  2167.155000\n",
       "max     999.970000     5.000000  4986.900000"
      ]
     },
     "execution_count": 5,
     "metadata": {},
     "output_type": "execute_result"
    }
   ],
   "source": [
    "# Estatísticas descritivas para o dataset\n",
    "df.describe()"
   ]
  },
  {
   "cell_type": "markdown",
   "id": "89b105a3-f967-42ec-be01-e16fa1a44191",
   "metadata": {},
   "source": [
    "**Análise da coluna 'Valor_Venda'**"
   ]
  },
  {
   "cell_type": "markdown",
   "id": "16eb0297-c83c-4f0e-b039-348bbed83be6",
   "metadata": {},
   "source": [
    "#### A distribuição do Valor_Venda parece razoável. A média de 498,71 é razoável considerando que o mínimo é 10,03 e o máximo é 999,97. O desvio padrão relativamente alto (287,04) indica que os valores dos produtos vendidos variam bastante, o que é comum quando há diferentes tipos de produtos."
   ]
  },
  {
   "cell_type": "markdown",
   "id": "93ee86ec-fb66-45b6-b5d3-f8df6cd2ec34",
   "metadata": {},
   "source": [
    "**Análise da coluna 'Quantidade'**"
   ]
  },
  {
   "cell_type": "markdown",
   "id": "4b318857-8469-4c2e-8ad3-8bd4c6060d97",
   "metadata": {},
   "source": [
    "#### A média de 2,96 e o desvio padrão de 1,41 indicam que a maioria das vendas envolvem de 1 a 5 unidades de um produto. Esse é um valor razoável e sugere que não há grandes variações nas quantidades vendidas. Nenhuma anomalia é evidente aqui, já que o máximo (5) e o mínimo (1) estão dentro de um intervalo esperado.\n",
    "#### 2,96−1,41=1,55 unidades (aproximadamente) \n",
    "#### 2,96+1,41=4,372,96+1,41=4,37 unidades (aproximadamente)."
   ]
  },
  {
   "cell_type": "markdown",
   "id": "c9d8d737-4e79-4447-90ab-6f097180f3cd",
   "metadata": {},
   "source": [
    "## 2. Testes de Hipóteses:"
   ]
  },
  {
   "cell_type": "code",
   "execution_count": 6,
   "id": "fbd745e7-062c-4a16-885d-f16974779e07",
   "metadata": {},
   "outputs": [
    {
     "name": "stdout",
     "output_type": "stream",
     "text": [
      "Testatística t: -1.9993139649073237\n",
      "Valor p: 0.046195947851682934\n",
      "Há uma diferença significativa nas vendas entre as categorias.\n"
     ]
    }
   ],
   "source": [
    "from scipy import stats\n",
    "\n",
    "# Separar as vendas das categorias\n",
    "vendas_eletronicos = df[df['Categoria'] == 'Eletrônicos']['Total']\n",
    "vendas_beleza = df[df['Categoria'] == 'Beleza']['Total']\n",
    "\n",
    "# Teste t para duas amostras independentes\n",
    "t_stat, p_value = stats.ttest_ind(vendas_eletronicos, vendas_beleza)\n",
    "\n",
    "print(f'Testatística t: {t_stat}')\n",
    "print(f'Valor p: {p_value}')\n",
    "\n",
    "if p_value < 0.05:\n",
    "    print(\"Há uma diferença significativa nas vendas entre as categorias.\")\n",
    "else:\n",
    "    print(\"Não há uma diferença significativa nas vendas entre as categorias.\")"
   ]
  },
  {
   "cell_type": "markdown",
   "id": "ceb9ef59-7c71-4c09-a52f-4bb8fbc0d749",
   "metadata": {},
   "source": [
    "#### A estatística t representa a diferença entre as médias das duas amostras (vendas de \"Eletrônicos\" e \"Beleza\") em termos do erro padrão. O valor de -1.9993 indica que a diferença entre as médias das duas categorias não é muito grande em termos relativos, e o sinal negativo significa que a média das vendas de \"Eletrônicos\" é menor que a de \"Beleza\" (em comparação com o erro padrão)."
   ]
  },
  {
   "cell_type": "markdown",
   "id": "882f42d5-129c-4ca0-86ec-5b057cea6b07",
   "metadata": {},
   "source": [
    "#### O valor p é a probabilidade de observar uma diferença tão grande ou maior entre as amostras, assumindo que a hipótese nula seja verdadeira (ou seja, que não há diferença real entre as duas categorias). O valor p é comparado com um nível de significância (α) para decidir se rejeitamos ou não a hipótese nula.\n",
    "\n",
    "#### Como o valor p é menor que 0,05, podemos rejeitar a hipótese nula (que afirma que não há diferença nas vendas entre as categorias). Isso significa que há evidências suficientes para concluir que existe uma diferença significativa nas vendas entre os produtos das categorias \"Eletrônicos\" e \"Beleza\"."
   ]
  },
  {
   "cell_type": "markdown",
   "id": "e4d17b9e-dd38-4658-a563-ccf89d294c35",
   "metadata": {},
   "source": [
    "## 3. Correlação entre Variáveis:"
   ]
  },
  {
   "cell_type": "code",
   "execution_count": 11,
   "id": "f892a2a9-238c-4ee5-82aa-16356bb2e93d",
   "metadata": {},
   "outputs": [
    {
     "name": "stdout",
     "output_type": "stream",
     "text": [
      "            Quantidade     Total\n",
      "Quantidade    1.000000  0.607141\n",
      "Total         0.607141  1.000000\n"
     ]
    }
   ],
   "source": [
    "# Calcular a correlação entre Quantidade e Total\n",
    "cor = df[['Quantidade', 'Total']].corr()\n",
    "print(cor)"
   ]
  },
  {
   "cell_type": "markdown",
   "id": "8e3adbf4-40e0-4f14-a9bc-381ba777c4dd",
   "metadata": {},
   "source": [
    "#### O valor 0,607141 indica uma correlação positiva moderada entre as variáveis Quantidade e Total. Então, quando a quantidade de itens vendidos aumenta, o valor total da venda também tende a aumentar. A relação não é perfeita (o valor seria 1 para uma correlação perfeita), mas ainda é considerável."
   ]
  },
  {
   "cell_type": "markdown",
   "id": "63a5554f-08ca-4280-a57b-a956bd85cb36",
   "metadata": {},
   "source": [
    "## 4. Regressão Linear:"
   ]
  },
  {
   "cell_type": "code",
   "execution_count": 8,
   "id": "22fd6b3f-868e-4149-be00-b09d9c4432d7",
   "metadata": {},
   "outputs": [
    {
     "name": "stdout",
     "output_type": "stream",
     "text": [
      "Coeficientes: [  3.00346974 501.84493718]\n",
      "Intercepto: -1499.234263639397\n"
     ]
    }
   ],
   "source": [
    "from sklearn.linear_model import LinearRegression\n",
    "\n",
    "# Variáveis independentes (Preço e Quantidade)\n",
    "X = df[['Valor_Venda', 'Quantidade']]\n",
    "y = df['Total']\n",
    "\n",
    "# Criar o modelo de regressão\n",
    "model = LinearRegression()\n",
    "model.fit(X, y)\n",
    "\n",
    "# Coeficientes\n",
    "print(f'Coeficientes: {model.coef_}')\n",
    "print(f'Intercepto: {model.intercept_}')"
   ]
  },
  {
   "cell_type": "markdown",
   "id": "254fe2a1-c981-4adc-9121-55d7ed850161",
   "metadata": {},
   "source": [
    "## 5. Análise de Sazonalidade e Tendência:"
   ]
  },
  {
   "cell_type": "code",
   "execution_count": 9,
   "id": "689fdc4c-aaf4-47a8-9618-834cdab7785e",
   "metadata": {},
   "outputs": [
    {
     "data": {
      "image/png": "[encoded data removed]",
      "text/plain": [
       "<Figure size 1000x600 with 1 Axes>"
      ]
     },
     "metadata": {},
     "output_type": "display_data"
    }
   ],
   "source": [
    "# Converter a coluna 'Data_Venda' para datetime\n",
    "df['Data_Venda'] = pd.to_datetime(df['Data_Venda'])\n",
    "\n",
    "# Extrair o mês e ano\n",
    "df['Ano'] = df['Data_Venda'].dt.year\n",
    "df['Mes'] = df['Data_Venda'].dt.month\n",
    "\n",
    "# Agrupar por mês e calcular as vendas totais\n",
    "vendas_mensais = df.groupby(['Ano', 'Mes'])['Total'].sum().reset_index()\n",
    "\n",
    "# Plotar a série temporal\n",
    "import matplotlib.pyplot as plt\n",
    "\n",
    "plt.figure(figsize=(10,6))\n",
    "for ano in vendas_mensais['Ano'].unique():\n",
    "    plt.plot(vendas_mensais[vendas_mensais['Ano'] == ano]['Mes'], \n",
    "             vendas_mensais[vendas_mensais['Ano'] == ano]['Total'], label=f'Ano {ano}')\n",
    "plt.xlabel('Mês')\n",
    "plt.ylabel('Vendas Totais')\n",
    "plt.title('Vendas Totais por Mês')\n",
    "plt.legend()\n",
    "plt.show()"
   ]
  }
 ],
 "metadata": {
  "kernelspec": {
   "display_name": "Python 3 (ipykernel)",
   "language": "python",
   "name": "python3"
  },
  "language_info": {
   "codemirror_mode": {
    "name": "ipython",
    "version": 3
   },
   "file_extension": ".py",
   "mimetype": "text/x-python",
   "name": "python",
   "nbconvert_exporter": "python",
   "pygments_lexer": "ipython3",
   "version": "3.11.9"
  }
 },
 "nbformat": 4,
 "nbformat_minor": 5
}
