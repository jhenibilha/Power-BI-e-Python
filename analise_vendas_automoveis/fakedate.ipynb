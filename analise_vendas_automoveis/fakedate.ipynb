{
 "cells": [
  {
   "cell_type": "code",
   "execution_count": 2,
   "id": "b4de2fa8-02ef-4c0b-9533-92515e8d4e29",
   "metadata": {},
   "outputs": [
    {
     "name": "stdout",
     "output_type": "stream",
     "text": [
      "   ID_Venda      Marca Modelo   Ano     Preço  Quantidade Data_Venda\n",
      "0       378   Mercedes   HB20  2022  120000.0           1 2024-07-16\n",
      "1       457   Mercedes     A3  2024  160000.0           2 2024-12-12\n",
      "2        93  Chevrolet     X1  2023  120000.0           5 2024-11-03\n",
      "3        90   Mercedes  Civic  2022  120000.0           5 2024-03-10\n",
      "4       222  Chevrolet  Civic  2023   85000.0           4 2024-09-25\n"
     ]
    }
   ],
   "source": [
    "import pandas as pd\n",
    "import numpy as np\n",
    "import random\n",
    "\n",
    "# Definindo as marcas, modelos e outros dados fictícios\n",
    "marcas = ['Toyota', 'Honda', 'Ford', 'Chevrolet', 'Volkswagen', 'Hyundai', 'Nissan', 'BMW', 'Mercedes', 'Audi']\n",
    "modelos = ['Corolla', 'Civic', 'F-150', 'Onix', 'Gol', 'HB20', 'Sentra', 'X1', 'X5', 'A3']\n",
    "precos = [90000, 85000, 120000, 75000, 65000, 70000, 95000, 150000, 160000, 170000]\n",
    "quantidade = [1, 2, 3, 4, 5]\n",
    "dias_do_mes = [i for i in range(1, 32)]\n",
    "\n",
    "# Função para gerar datas aleatórias entre janeiro e dezembro de 2024\n",
    "def gerar_data():\n",
    "    ano = 2024\n",
    "    mes = random.randint(1, 12)\n",
    "    dia = random.choice(dias_do_mes)\n",
    "    try:\n",
    "        return pd.to_datetime(f'{ano}-{mes:02d}-{dia:02d}')\n",
    "    except ValueError:\n",
    "        return pd.to_datetime(f'{ano}-{mes:02d}-{1:02d}')  # Caso o dia seja inválido, ajusta para o dia 1\n",
    "\n",
    "# Gerando o dataset\n",
    "dados = {\n",
    "    'ID_Venda': range(1, 501),\n",
    "    'Marca': [random.choice(marcas) for _ in range(500)],\n",
    "    'Modelo': [random.choice(modelos) for _ in range(500)],\n",
    "    'Ano': [random.choice([2022, 2023, 2024]) for _ in range(500)],\n",
    "    'Preço': [random.choice(precos) for _ in range(500)],\n",
    "    'Quantidade': [random.choice(quantidade) for _ in range(500)],\n",
    "    'Data_Venda': [gerar_data() for _ in range(500)],\n",
    "}\n",
    "\n",
    "# Criando o DataFrame\n",
    "df = pd.DataFrame(dados)\n",
    "\n",
    "# Introduzindo alguns valores ausentes aleatórios (aproximadamente 5% de valores ausentes)\n",
    "num_ausentes = int(len(df) * 0.05)\n",
    "indices_ausentes = random.sample(range(len(df)), num_ausentes)\n",
    "for i in indices_ausentes:\n",
    "    df.loc[i, 'Preço'] = np.nan  # Preço ausente\n",
    "\n",
    "# Introduzindo valores duplicados aleatórios (aproximadamente 5% de duplicação)\n",
    "num_duplicados = int(len(df) * 0.05)\n",
    "duplicados_indices = random.sample(range(len(df)), num_duplicados)\n",
    "df = pd.concat([df, df.iloc[duplicados_indices]], ignore_index=True)\n",
    "\n",
    "# Embaralhando o DataFrame para parecer mais realista\n",
    "df = df.sample(frac=1).reset_index(drop=True)\n",
    "\n",
    "# Exibindo as primeiras linhas para verificar\n",
    "print(df.head())\n",
    "\n",
    "# Salvando o dataset em um arquivo CSV\n",
    "df.to_csv('vendas_automoveis_2024.csv', index=False)\n"
   ]
  },
  {
   "cell_type": "code",
   "execution_count": null,
   "id": "50d74cca-cb21-4168-aca6-dbc48aea4710",
   "metadata": {},
   "outputs": [],
   "source": []
  }
 ],
 "metadata": {
  "kernelspec": {
   "display_name": "Python 3 (ipykernel)",
   "language": "python",
   "name": "python3"
  },
  "language_info": {
   "codemirror_mode": {
    "name": "ipython",
    "version": 3
   },
   "file_extension": ".py",
   "mimetype": "text/x-python",
   "name": "python",
   "nbconvert_exporter": "python",
   "pygments_lexer": "ipython3",
   "version": "3.11.9"
  }
 },
 "nbformat": 4,
 "nbformat_minor": 5
}
