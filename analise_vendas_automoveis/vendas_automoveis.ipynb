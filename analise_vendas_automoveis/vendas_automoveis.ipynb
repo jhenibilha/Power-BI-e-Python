{
 "cells": [
  {
   "cell_type": "markdown",
   "id": "26448fcb-7529-4502-8cc2-14027903ee5d",
   "metadata": {},
   "source": [
    "## Empresa de Automóveis"
   ]
  },
  {
   "cell_type": "code",
   "execution_count": 1,
   "id": "d9c32a99-bc3e-4cc2-bb14-744344d2a534",
   "metadata": {},
   "outputs": [],
   "source": [
    "import pandas as pd\n",
    "import numpy as np"
   ]
  },
  {
   "cell_type": "code",
   "execution_count": 2,
   "id": "f70b5a97-c1a0-4629-9a40-d1d6a041f3b6",
   "metadata": {},
   "outputs": [],
   "source": [
    "df = pd.read_csv('vendas_automoveis_2024.csv')"
   ]
  },
  {
   "cell_type": "code",
   "execution_count": 3,
   "id": "9a3bd892-da94-4b25-9702-a32200617a34",
   "metadata": {},
   "outputs": [
    {
     "data": {
      "text/html": [
       "<div>\n",
       "<style scoped>\n",
       "    .dataframe tbody tr th:only-of-type {\n",
       "        vertical-align: middle;\n",
       "    }\n",
       "\n",
       "    .dataframe tbody tr th {\n",
       "        vertical-align: top;\n",
       "    }\n",
       "\n",
       "    .dataframe thead th {\n",
       "        text-align: right;\n",
       "    }\n",
       "</style>\n",
       "<table border=\"1\" class=\"dataframe\">\n",
       "  <thead>\n",
       "    <tr style=\"text-align: right;\">\n",
       "      <th></th>\n",
       "      <th>ID_Venda</th>\n",
       "      <th>Marca</th>\n",
       "      <th>Modelo</th>\n",
       "      <th>Ano</th>\n",
       "      <th>Preço</th>\n",
       "      <th>Quantidade</th>\n",
       "      <th>Data_Venda</th>\n",
       "    </tr>\n",
       "  </thead>\n",
       "  <tbody>\n",
       "    <tr>\n",
       "      <th>0</th>\n",
       "      <td>1</td>\n",
       "      <td>Hyundai</td>\n",
       "      <td>Corolla</td>\n",
       "      <td>2024</td>\n",
       "      <td>95000.000000</td>\n",
       "      <td>3</td>\n",
       "      <td>2024-03-23</td>\n",
       "    </tr>\n",
       "    <tr>\n",
       "      <th>1</th>\n",
       "      <td>2</td>\n",
       "      <td>Toyota</td>\n",
       "      <td>HB20</td>\n",
       "      <td>2024</td>\n",
       "      <td>109256.465517</td>\n",
       "      <td>2</td>\n",
       "      <td>2024-01-21</td>\n",
       "    </tr>\n",
       "    <tr>\n",
       "      <th>2</th>\n",
       "      <td>3</td>\n",
       "      <td>Honda</td>\n",
       "      <td>X1</td>\n",
       "      <td>2022</td>\n",
       "      <td>85000.000000</td>\n",
       "      <td>2</td>\n",
       "      <td>2024-02-28</td>\n",
       "    </tr>\n",
       "    <tr>\n",
       "      <th>3</th>\n",
       "      <td>4</td>\n",
       "      <td>Volkswagen</td>\n",
       "      <td>X1</td>\n",
       "      <td>2024</td>\n",
       "      <td>120000.000000</td>\n",
       "      <td>2</td>\n",
       "      <td>2024-12-12</td>\n",
       "    </tr>\n",
       "    <tr>\n",
       "      <th>4</th>\n",
       "      <td>5</td>\n",
       "      <td>Hyundai</td>\n",
       "      <td>Corolla</td>\n",
       "      <td>2024</td>\n",
       "      <td>120000.000000</td>\n",
       "      <td>5</td>\n",
       "      <td>2024-04-02</td>\n",
       "    </tr>\n",
       "  </tbody>\n",
       "</table>\n",
       "</div>"
      ],
      "text/plain": [
       "   ID_Venda       Marca   Modelo   Ano          Preço  Quantidade  Data_Venda\n",
       "0         1     Hyundai  Corolla  2024   95000.000000           3  2024-03-23\n",
       "1         2      Toyota     HB20  2024  109256.465517           2  2024-01-21\n",
       "2         3       Honda       X1  2022   85000.000000           2  2024-02-28\n",
       "3         4  Volkswagen       X1  2024  120000.000000           2  2024-12-12\n",
       "4         5     Hyundai  Corolla  2024  120000.000000           5  2024-04-02"
      ]
     },
     "execution_count": 3,
     "metadata": {},
     "output_type": "execute_result"
    }
   ],
   "source": [
    "df.head(5)"
   ]
  },
  {
   "cell_type": "markdown",
   "id": "1f8b8ec7-2b49-4d79-8675-53869b6a7833",
   "metadata": {},
   "source": [
    "### Verificar Duplicatas"
   ]
  },
  {
   "cell_type": "code",
   "execution_count": 4,
   "id": "fd6aded3-f874-41b1-9494-9008dc3bfc4a",
   "metadata": {},
   "outputs": [
    {
     "name": "stdout",
     "output_type": "stream",
     "text": [
      "Número de duplicatas encontradas: 0\n"
     ]
    }
   ],
   "source": [
    "# Verificar se há duplicatas na coluna 'ID_Venda'\n",
    "duplicatas = df['ID_Venda'].duplicated().sum()\n",
    "\n",
    "# Mostrar o número de duplicatas\n",
    "print(f\"Número de duplicatas encontradas: {duplicatas}\")"
   ]
  },
  {
   "cell_type": "markdown",
   "id": "7b87b883-7304-4b03-b8a2-7d86917a37b5",
   "metadata": {},
   "source": [
    "### Tratar Valores Ausentes da Coluna 'Marca'"
   ]
  },
  {
   "cell_type": "code",
   "execution_count": 5,
   "id": "aae26185-65a5-4f5e-a224-24847d46d0d5",
   "metadata": {},
   "outputs": [],
   "source": [
    "# Preencher os valores ausentes na coluna 'Marca' com a string 'Desconhecido'\n",
    "df['Marca'] = df['Marca'].fillna('Desconhecido')"
   ]
  },
  {
   "cell_type": "markdown",
   "id": "d4000a34-13e7-4aa2-bab0-78a182377bae",
   "metadata": {},
   "source": [
    "### Tratar Valores Ausentes da Coluna 'Modelo'"
   ]
  },
  {
   "cell_type": "code",
   "execution_count": 6,
   "id": "e5566554-ba79-4ac3-a8df-a97d7939e0c7",
   "metadata": {},
   "outputs": [],
   "source": [
    "df['Modelo'] = df['Modelo'].fillna('Desconhecido')"
   ]
  },
  {
   "cell_type": "markdown",
   "id": "efdd2a61-81e1-4696-9da5-ffc206b1ade6",
   "metadata": {},
   "source": [
    "### Tratar Valores Ausentes da Coluna 'Preco'"
   ]
  },
  {
   "cell_type": "code",
   "execution_count": 7,
   "id": "ee247aac-0436-45f9-a7b3-e12cd4046599",
   "metadata": {},
   "outputs": [
    {
     "data": {
      "text/html": [
       "<div>\n",
       "<style scoped>\n",
       "    .dataframe tbody tr th:only-of-type {\n",
       "        vertical-align: middle;\n",
       "    }\n",
       "\n",
       "    .dataframe tbody tr th {\n",
       "        vertical-align: top;\n",
       "    }\n",
       "\n",
       "    .dataframe thead th {\n",
       "        text-align: right;\n",
       "    }\n",
       "</style>\n",
       "<table border=\"1\" class=\"dataframe\">\n",
       "  <thead>\n",
       "    <tr style=\"text-align: right;\">\n",
       "      <th></th>\n",
       "      <th>ID_Venda</th>\n",
       "      <th>Marca</th>\n",
       "      <th>Modelo</th>\n",
       "      <th>Ano</th>\n",
       "      <th>Preço</th>\n",
       "      <th>Quantidade</th>\n",
       "      <th>Data_Venda</th>\n",
       "    </tr>\n",
       "  </thead>\n",
       "  <tbody>\n",
       "    <tr>\n",
       "      <th>0</th>\n",
       "      <td>1</td>\n",
       "      <td>Hyundai</td>\n",
       "      <td>Corolla</td>\n",
       "      <td>2024</td>\n",
       "      <td>95000.000000</td>\n",
       "      <td>3</td>\n",
       "      <td>2024-03-23</td>\n",
       "    </tr>\n",
       "    <tr>\n",
       "      <th>1</th>\n",
       "      <td>2</td>\n",
       "      <td>Toyota</td>\n",
       "      <td>HB20</td>\n",
       "      <td>2024</td>\n",
       "      <td>109256.465517</td>\n",
       "      <td>2</td>\n",
       "      <td>2024-01-21</td>\n",
       "    </tr>\n",
       "    <tr>\n",
       "      <th>2</th>\n",
       "      <td>3</td>\n",
       "      <td>Honda</td>\n",
       "      <td>X1</td>\n",
       "      <td>2022</td>\n",
       "      <td>85000.000000</td>\n",
       "      <td>2</td>\n",
       "      <td>2024-02-28</td>\n",
       "    </tr>\n",
       "    <tr>\n",
       "      <th>3</th>\n",
       "      <td>4</td>\n",
       "      <td>Volkswagen</td>\n",
       "      <td>X1</td>\n",
       "      <td>2024</td>\n",
       "      <td>120000.000000</td>\n",
       "      <td>2</td>\n",
       "      <td>2024-12-12</td>\n",
       "    </tr>\n",
       "    <tr>\n",
       "      <th>4</th>\n",
       "      <td>5</td>\n",
       "      <td>Hyundai</td>\n",
       "      <td>Corolla</td>\n",
       "      <td>2024</td>\n",
       "      <td>120000.000000</td>\n",
       "      <td>5</td>\n",
       "      <td>2024-04-02</td>\n",
       "    </tr>\n",
       "  </tbody>\n",
       "</table>\n",
       "</div>"
      ],
      "text/plain": [
       "   ID_Venda       Marca   Modelo   Ano          Preço  Quantidade  Data_Venda\n",
       "0         1     Hyundai  Corolla  2024   95000.000000           3  2024-03-23\n",
       "1         2      Toyota     HB20  2024  109256.465517           2  2024-01-21\n",
       "2         3       Honda       X1  2022   85000.000000           2  2024-02-28\n",
       "3         4  Volkswagen       X1  2024  120000.000000           2  2024-12-12\n",
       "4         5     Hyundai  Corolla  2024  120000.000000           5  2024-04-02"
      ]
     },
     "execution_count": 7,
     "metadata": {},
     "output_type": "execute_result"
    }
   ],
   "source": [
    "# Preencher os valores ausentes na coluna 'Preço' com a média dos preços\n",
    "media_preco = df['Preço'].mean()  \n",
    "df['Preço'] = df['Preço'].fillna(media_preco)\n",
    "\n",
    "# Exibir os dados após o preenchimento\n",
    "df.head()"
   ]
  },
  {
   "cell_type": "markdown",
   "id": "e01e0c6b-fc5c-4292-b1c9-178ffa894450",
   "metadata": {},
   "source": [
    "## 1. Distribuições Estatísticas"
   ]
  },
  {
   "cell_type": "markdown",
   "id": "f33baa0c-4f7c-4d6f-9863-93ad4b0801dd",
   "metadata": {},
   "source": [
    "### Visualização das distribuições"
   ]
  },
  {
   "cell_type": "code",
   "execution_count": 8,
   "id": "4901e74c-c9f4-416e-8487-4a5d8b7119b8",
   "metadata": {},
   "outputs": [
    {
     "data": {
      "image/png": "[encoded data removed]",
      "text/plain": [
       "<Figure size 600x400 with 1 Axes>"
      ]
     },
     "metadata": {},
     "output_type": "display_data"
    },
    {
     "data": {
      "image/png": "[encoded data removed]",
      "text/plain": [
       "<Figure size 600x400 with 1 Axes>"
      ]
     },
     "metadata": {},
     "output_type": "display_data"
    }
   ],
   "source": [
    "import matplotlib.pyplot as plt\n",
    "import seaborn as sns\n",
    "\n",
    "# Plotar histograma da coluna 'Preço'\n",
    "plt.figure(figsize=(6,4))\n",
    "sns.histplot(df['Preço'], kde=True, bins=30)\n",
    "plt.title('Distribuição de Preço')\n",
    "plt.xlabel('Preço')\n",
    "plt.ylabel('Frequência')\n",
    "plt.show()\n",
    "\n",
    "# Boxplot da coluna 'Preço'\n",
    "plt.figure(figsize=(6,4))\n",
    "sns.boxplot(x=df['Preço'])\n",
    "plt.title('Boxplot de Preço')\n",
    "plt.xlabel('Preço')\n",
    "plt.show()"
   ]
  },
  {
   "cell_type": "markdown",
   "id": "87b6ee36-6aec-46a2-9cae-eb8b8c32ede2",
   "metadata": {},
   "source": [
    "### Cálculo de medidas estatísticas"
   ]
  },
  {
   "cell_type": "code",
   "execution_count": 9,
   "id": "774bb54d-516c-4671-bc45-fcfd50541e88",
   "metadata": {},
   "outputs": [
    {
     "name": "stdout",
     "output_type": "stream",
     "text": [
      "count       500.000000\n",
      "mean     109256.465517\n",
      "std       36011.534575\n",
      "min       65000.000000\n",
      "25%       75000.000000\n",
      "50%       95000.000000\n",
      "75%      150000.000000\n",
      "max      170000.000000\n",
      "Name: Preço, dtype: float64\n",
      "Assimetria: 0.45883120371494307\n",
      "Curtose: -1.2833289982451341\n"
     ]
    }
   ],
   "source": [
    "# Estatísticas descritivas para a coluna 'Preço'\n",
    "preco_stats = df['Preço'].describe()\n",
    "print(preco_stats)\n",
    "\n",
    "# Cálculo de assimetria e curtose\n",
    "from scipy.stats import skew, kurtosis\n",
    "\n",
    "preco_skew = skew(df['Preço'].dropna())  # Remover valores ausentes\n",
    "preco_kurt = kurtosis(df['Preço'].dropna())\n",
    "\n",
    "print(f'Assimetria: {preco_skew}')\n",
    "print(f'Curtose: {preco_kurt}')"
   ]
  },
  {
   "cell_type": "markdown",
   "id": "ce584685-c378-433e-8cee-3cd1874ac8de",
   "metadata": {},
   "source": [
    "## 2. Regressão Linear"
   ]
  },
  {
   "cell_type": "markdown",
   "id": "f303d727-2a62-4b99-9f29-3f8f436e74b9",
   "metadata": {},
   "source": [
    "### Preparar os dados para a regressão linear"
   ]
  },
  {
   "cell_type": "code",
   "execution_count": 10,
   "id": "d8244f01-bb2d-4374-87a5-ff1a1350e93e",
   "metadata": {},
   "outputs": [
    {
     "name": "stdout",
     "output_type": "stream",
     "text": [
      "Mean Squared Error (MSE): 1395108733.630675\n",
      "R-squared (R2): 0.004510411227892197\n",
      "Coeficientes: [1941.04929752 -614.08483694]\n",
      "Intercepto: -3815859.1768064024\n"
     ]
    }
   ],
   "source": [
    "from sklearn.model_selection import train_test_split\n",
    "from sklearn.linear_model import LinearRegression\n",
    "from sklearn.metrics import mean_squared_error, r2_score\n",
    "\n",
    "# Selecionar as variáveis independentes (X) e dependente (y)\n",
    "X = df[['Ano', 'Quantidade']]  # Variáveis independentes\n",
    "y = df['Preço']  # Variável dependente (target)\n",
    "\n",
    "# Dividir os dados em treino e teste (80% treino, 20% teste)\n",
    "X_train, X_test, y_train, y_test = train_test_split(X, y, test_size=0.2, random_state=42)\n",
    "\n",
    "# Criar o modelo de regressão linear\n",
    "model = LinearRegression()\n",
    "\n",
    "# Treinar o modelo\n",
    "model.fit(X_train, y_train)\n",
    "\n",
    "# Fazer previsões\n",
    "y_pred = model.predict(X_test)\n",
    "\n",
    "# Avaliar o modelo\n",
    "mse = mean_squared_error(y_test, y_pred)\n",
    "r2 = r2_score(y_test, y_pred)\n",
    "\n",
    "print(f'Mean Squared Error (MSE): {mse}')\n",
    "print(f'R-squared (R2): {r2}')\n",
    "\n",
    "# Coeficientes do modelo\n",
    "print(f'Coeficientes: {model.coef_}')\n",
    "print(f'Intercepto: {model.intercept_}')"
   ]
  },
  {
   "cell_type": "markdown",
   "id": "71b9b764-5b9e-45b6-b0fc-908f4d81552a",
   "metadata": {},
   "source": [
    "### Visualizar os resultados da regressão"
   ]
  },
  {
   "cell_type": "code",
   "execution_count": 11,
   "id": "1e632dcd-2544-4e25-8f98-157a999d7fbe",
   "metadata": {},
   "outputs": [
    {
     "data": {
      "image/png": "[encoded data removed]",
      "text/plain": [
       "<Figure size 600x400 with 1 Axes>"
      ]
     },
     "metadata": {},
     "output_type": "display_data"
    }
   ],
   "source": [
    "# Plotando os valores reais vs previstos\n",
    "plt.figure(figsize=(6,4))\n",
    "plt.scatter(y_test, y_pred)\n",
    "plt.plot([min(y_test), max(y_test)], [min(y_test), max(y_test)], color='red', linestyle='--')\n",
    "plt.title('Valores reais vs previstos de Preço')\n",
    "plt.xlabel('Valores reais de Preço')\n",
    "plt.ylabel('Valores previstos de Preço')\n",
    "plt.show()"
   ]
  },
  {
   "cell_type": "markdown",
   "id": "85a99d3c-7213-41a6-a26b-ce4b37ac2b0a",
   "metadata": {},
   "source": [
    "## 3. Testes de Hipóteses"
   ]
  },
  {
   "cell_type": "markdown",
   "id": "52622c4e-601f-406c-9a63-b8faa384c172",
   "metadata": {},
   "source": [
    "### Teste t de Student (para comparar as médias entre dois grupos)"
   ]
  },
  {
   "cell_type": "code",
   "execution_count": 12,
   "id": "84af022d-449f-44c6-95fe-59d5690072ee",
   "metadata": {},
   "outputs": [
    {
     "name": "stdout",
     "output_type": "stream",
     "text": [
      "Estatística t: -0.7841519741029062\n",
      "Valor-p: 0.43463628350716854\n",
      "Não rejeitamos a hipótese nula. Não há diferença significativa entre os preços de Ford e Toyota.\n"
     ]
    }
   ],
   "source": [
    "from scipy.stats import ttest_ind\n",
    "\n",
    "# Filtrar dados para Ford e Toyota\n",
    "ford_preco = df[df['Marca'] == 'Ford']['Preço']\n",
    "toyota_preco = df[df['Marca'] == 'Toyota']['Preço']\n",
    "\n",
    "# Realizar o teste t\n",
    "t_stat, p_value = ttest_ind(ford_preco, toyota_preco, nan_policy='omit')\n",
    "\n",
    "print(f'Estatística t: {t_stat}')\n",
    "print(f'Valor-p: {p_value}')\n",
    "\n",
    "# Interpretando o resultado\n",
    "if p_value < 0.05:\n",
    "    print('Rejeitamos a hipótese nula. A média dos preços é significativamente diferente entre Ford e Toyota.')\n",
    "else:\n",
    "    print('Não rejeitamos a hipótese nula. Não há diferença significativa entre os preços de Ford e Toyota.')"
   ]
  },
  {
   "cell_type": "markdown",
   "id": "e11590a1-b622-48c1-b52b-e3bfa64f5b99",
   "metadata": {},
   "source": [
    "### Teste de correlação de Pearson (para verificar a relação entre duas variáveis contínuas)"
   ]
  },
  {
   "cell_type": "code",
   "execution_count": 13,
   "id": "4d64ba12-c8ca-4c95-b1e7-a6f508516128",
   "metadata": {},
   "outputs": [
    {
     "name": "stdout",
     "output_type": "stream",
     "text": [
      "Correlação de Pearson: -0.015231366363874198\n",
      "Valor-p: 0.7340440701577977\n",
      "Não existe correlação significativa entre preço e quantidade.\n"
     ]
    }
   ],
   "source": [
    "from scipy.stats import pearsonr\n",
    "\n",
    "# Teste de correlação de Pearson entre 'Preço' e 'Quantidade'\n",
    "correlation, p_value = pearsonr(df['Preço'].dropna(), df['Quantidade'].dropna())  # Remover NaNs\n",
    "\n",
    "print(f'Correlação de Pearson: {correlation}')\n",
    "print(f'Valor-p: {p_value}')\n",
    "\n",
    "# Interpretando o resultado\n",
    "if p_value < 0.05:\n",
    "    print('Existe uma correlação significativa entre preço e quantidade.')\n",
    "else:\n",
    "    print('Não existe correlação significativa entre preço e quantidade.')"
   ]
  },
  {
   "cell_type": "markdown",
   "id": "af65e32a-a4ef-4e3f-a1b0-2d3bf33dd562",
   "metadata": {},
   "source": [
    "### ANOVA (para comparar as médias de mais de dois grupos)"
   ]
  },
  {
   "cell_type": "code",
   "execution_count": 14,
   "id": "0b085c9e-6cd3-4256-8346-2798c069de17",
   "metadata": {},
   "outputs": [
    {
     "name": "stdout",
     "output_type": "stream",
     "text": [
      "Estatística F: 1.2105655016335752\n",
      "Valor-p: 0.28134867874655234\n",
      "Não rejeitamos a hipótese nula. Não há diferença significativa no preço entre as marcas.\n"
     ]
    }
   ],
   "source": [
    "from scipy.stats import f_oneway\n",
    "\n",
    "# Realizar a ANOVA para as marcas\n",
    "marcas = df['Marca'].unique()\n",
    "precos_por_marca = [df[df['Marca'] == marca]['Preço'] for marca in marcas]\n",
    "\n",
    "# Teste de ANOVA\n",
    "f_stat, p_value = f_oneway(*precos_por_marca)\n",
    "\n",
    "print(f'Estatística F: {f_stat}')\n",
    "print(f'Valor-p: {p_value}')\n",
    "\n",
    "# Interpretando o resultado\n",
    "if p_value < 0.05:\n",
    "    print('Rejeitamos a hipótese nula. Existe uma diferença significativa no preço entre as marcas.')\n",
    "else:\n",
    "    print('Não rejeitamos a hipótese nula. Não há diferença significativa no preço entre as marcas.')"
   ]
  },
  {
   "cell_type": "code",
   "execution_count": 15,
   "id": "3c335ed7-1fee-4c4b-b854-0f50a3f29274",
   "metadata": {},
   "outputs": [],
   "source": [
    "# Salvar o dataset\n",
    "df.to_csv('vendas_automoveis_2024.csv', index = False)"
   ]
  }
 ],
 "metadata": {
  "kernelspec": {
   "display_name": "Python 3 (ipykernel)",
   "language": "python",
   "name": "python3"
  },
  "language_info": {
   "codemirror_mode": {
    "name": "ipython",
    "version": 3
   },
   "file_extension": ".py",
   "mimetype": "text/x-python",
   "name": "python",
   "nbconvert_exporter": "python",
   "pygments_lexer": "ipython3",
   "version": "3.11.9"
  }
 },
 "nbformat": 4,
 "nbformat_minor": 5
}
